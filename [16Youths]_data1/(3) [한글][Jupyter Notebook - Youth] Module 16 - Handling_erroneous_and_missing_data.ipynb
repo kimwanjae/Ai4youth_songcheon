{
 "cells": [
  {
   "cell_type": "markdown",
   "metadata": {},
   "source": [
    "## 잘못되고 누락된 데이터"
   ]
  },
  {
   "cell_type": "markdown",
   "metadata": {},
   "source": [
    "우리는 데이터 과학 또는 기계 학습 프로젝트에 앞서 데이터를 수집하거나 다운로드해야 합니다. 이상적인 시나리오에서 데이터는 오류없이 높은 품질로 수집됩니다. 그러나 실제로는 dataset은 깨끗하지 않습니다. 모든 dataset는 dataset를 사용하기 전에 잘못되거나 누락 된 데이터가 있는지 확인해야 합니다. 잘못되거나 누락된 데이터가 있는 분석은 정확하지 않기 때문에 항상 확인하는 것이 중요합니다."
   ]
  },
  {
   "cell_type": "markdown",
   "metadata": {},
   "source": [
    "노트북을 시작할 때 필요한 모듈을 가져와야한다는 것을 기억하십시오. 여러분은 아래 셀에서 그것을 할 수 있습니다."
   ]
  },
  {
   "cell_type": "code",
   "execution_count": null,
   "metadata": {},
   "outputs": [],
   "source": [
    "#your code here"
   ]
  },
  {
   "cell_type": "markdown",
   "metadata": {},
   "source": [
    "## 1. 잘못된 데이터"
   ]
  },
  {
   "cell_type": "markdown",
   "metadata": {},
   "source": [
    "잘못된 데이터는 잘못 수집된 데이터 또는 dataset에 잘못 입력된 데이터를 의미합니다. 예를 들어 집에 있는 방의 개수를 포함하는 dataset은 음수를 가질 수 없기 때문에 모든 값이 양수가 될 것으로 기대합니다. 따라서 dataset내의 모든 음수 값은 잘못된 값 입니다.\n",
    "\n",
    "경우에 따라 잘못된 데이터를 쉽게 식별할 수 있지만 항상 그렇지 않을 수도 있습니다. 집에 있는 방의 개수를 포함하는 dataset와 동일한 개념을 사용하면 큰 값이 잘못되었을 수도 있습니다. 그러나 큰 숫자가 잘못된 데이터인지 이상치인지는 명확하지 않습니다. 저택과 같은 매우 큰 주택에는 방이 많을 수 있기 때문입니다. 저택은 드물기 때문에 데이터 포인트가 이상치로 표시됩니다. 이상치는 잘못된 데이터가 아닙니다! 이상치는 단지 드문 경우일 뿐이며 유효한 데이터 포인트입니다.\n",
    "\n",
    "아래의 예는 잘못된 데이터와 이상치의 차이점을 보여줍니다."
   ]
  },
  {
   "cell_type": "markdown",
   "metadata": {},
   "source": [
    "## 1.1 컴퓨터 게임의 가격"
   ]
  },
  {
   "cell_type": "markdown",
   "metadata": {},
   "source": [
    "'컴퓨터 게임의 가격'이 '게임을 좋아하는 사람의 수'와 관련이 있는지 여부를 연구하는 과제 입니다. 이것은 게임 개발 회사가 최신 게임 가격을 조정하는데 도움이 됩니다. 달러(USD) 가격과 게임을 좋아하는 사람의 수에 대한 모든 데이터를 수집했다고 가정하면 데이터에 이상치나 잘못된 데이터가 있는지 확인해야 합니다. 아래 코드를 실행하고 출력을 관찰하십시오."
   ]
  },
  {
   "cell_type": "code",
   "execution_count": 1,
   "metadata": {},
   "outputs": [
    {
     "ename": "NameError",
     "evalue": "name 'plt' is not defined",
     "output_type": "error",
     "traceback": [
      "\u001b[1;31m---------------------------------------------------------------------------\u001b[0m",
      "\u001b[1;31mNameError\u001b[0m                                 Traceback (most recent call last)",
      "\u001b[1;32m<ipython-input-1-b6a6fffc0ccd>\u001b[0m in \u001b[0;36m<module>\u001b[1;34m\u001b[0m\n\u001b[0;32m      5\u001b[0m \u001b[0mnum_people\u001b[0m \u001b[1;33m=\u001b[0m \u001b[1;33m[\u001b[0m\u001b[1;36m1\u001b[0m\u001b[1;33m,\u001b[0m\u001b[1;36m2\u001b[0m\u001b[1;33m,\u001b[0m\u001b[1;36m5\u001b[0m\u001b[1;33m,\u001b[0m\u001b[1;36m15\u001b[0m\u001b[1;33m,\u001b[0m\u001b[1;36m8\u001b[0m\u001b[1;33m,\u001b[0m\u001b[1;36m10\u001b[0m\u001b[1;33m,\u001b[0m\u001b[1;36m1\u001b[0m\u001b[1;33m,\u001b[0m\u001b[1;36m0.5\u001b[0m\u001b[1;33m]\u001b[0m\u001b[1;33m\u001b[0m\u001b[1;33m\u001b[0m\u001b[0m\n\u001b[0;32m      6\u001b[0m \u001b[1;33m\u001b[0m\u001b[0m\n\u001b[1;32m----> 7\u001b[1;33m \u001b[0mplt\u001b[0m\u001b[1;33m.\u001b[0m\u001b[0mscatter\u001b[0m\u001b[1;33m(\u001b[0m\u001b[0mnum_people\u001b[0m\u001b[1;33m[\u001b[0m\u001b[1;36m0\u001b[0m\u001b[1;33m:\u001b[0m\u001b[1;36m5\u001b[0m\u001b[1;33m]\u001b[0m\u001b[1;33m,\u001b[0m\u001b[0mgame_price\u001b[0m\u001b[1;33m[\u001b[0m\u001b[1;36m0\u001b[0m\u001b[1;33m:\u001b[0m\u001b[1;36m5\u001b[0m\u001b[1;33m]\u001b[0m\u001b[1;33m)\u001b[0m\u001b[1;33m\u001b[0m\u001b[1;33m\u001b[0m\u001b[0m\n\u001b[0m\u001b[0;32m      8\u001b[0m \u001b[0mplt\u001b[0m\u001b[1;33m.\u001b[0m\u001b[0mscatter\u001b[0m\u001b[1;33m(\u001b[0m\u001b[0mnum_people\u001b[0m\u001b[1;33m[\u001b[0m\u001b[1;36m5\u001b[0m\u001b[1;33m]\u001b[0m\u001b[1;33m,\u001b[0m\u001b[0mgame_price\u001b[0m\u001b[1;33m[\u001b[0m\u001b[1;36m5\u001b[0m\u001b[1;33m]\u001b[0m\u001b[1;33m,\u001b[0m\u001b[0mc\u001b[0m\u001b[1;33m=\u001b[0m\u001b[1;34m'g'\u001b[0m\u001b[1;33m)\u001b[0m\u001b[1;33m\u001b[0m\u001b[1;33m\u001b[0m\u001b[0m\n\u001b[0;32m      9\u001b[0m \u001b[0mplt\u001b[0m\u001b[1;33m.\u001b[0m\u001b[0mscatter\u001b[0m\u001b[1;33m(\u001b[0m\u001b[0mnum_people\u001b[0m\u001b[1;33m[\u001b[0m\u001b[1;36m6\u001b[0m\u001b[1;33m:\u001b[0m\u001b[1;36m8\u001b[0m\u001b[1;33m]\u001b[0m\u001b[1;33m,\u001b[0m\u001b[0mgame_price\u001b[0m\u001b[1;33m[\u001b[0m\u001b[1;36m6\u001b[0m\u001b[1;33m:\u001b[0m\u001b[1;36m8\u001b[0m\u001b[1;33m]\u001b[0m\u001b[1;33m,\u001b[0m\u001b[0mc\u001b[0m\u001b[1;33m=\u001b[0m\u001b[1;34m'r'\u001b[0m\u001b[1;33m)\u001b[0m\u001b[1;33m\u001b[0m\u001b[1;33m\u001b[0m\u001b[0m\n",
      "\u001b[1;31mNameError\u001b[0m: name 'plt' is not defined"
     ]
    }
   ],
   "source": [
    "#game_name refers to the name of the games\n",
    "#game_price refers to the price of the computer game and num_people refer to the number of people who liked a game\n",
    "game_name = ['Phone of duty','PIFA soccer','Lario cart','Hokemon','Loom','League of failures','Fritnite','Fatty Trotter']\n",
    "game_price = [10,20,50,150,80,200,1000,-100]\n",
    "num_people = [1,2,5,15,8,10,1,0.5]\n",
    "\n",
    "plt.scatter(num_people[0:5],game_price[0:5])\n",
    "plt.scatter(num_people[5],game_price[5],c='g')\n",
    "plt.scatter(num_people[6:8],game_price[6:8],c='r')\n",
    "\n",
    "plt.xlabel('Number of People')\n",
    "plt.ylabel('Price of game (USD)')\n",
    "\n",
    "plt.show();"
   ]
  },
  {
   "cell_type": "markdown",
   "metadata": {},
   "source": [
    "위 그림으로 무엇을 알 수 있습니까?\n",
    "\n",
    "빨간색 점이 잘못된 데이터인 것 같습니다. 빨간색으로 표시된 첫번째 점은 가격이 음수이며, 게임을 좋아하는 사람의 수가 0과 1 사이 값이므로 잘못되었습니다. 게임을 음수가격으로 판매할 수 없습니다. 또한, 사람의 수는 정수여야 하므로 한 사람의 일부가 게임을 좋아하도록 하는 것은 말이 되지 않습니다. 빨간색으로 표시된 두번째 점은 컴퓨터 게임이 1,000 달러 만큼 비싸지 않기 때문에 잘못된 것입니다.\n",
    "\n",
    "빨간색 데이터 포인트가 잘못되었으므로 dataset에서 이 값을 제거해야합니다. 위의 코드를 복사하고 편집하여 잘못된 포인트를 제거하고 나머지 포인트만 플롯합니다. 아래 편집 코드를 실행하십시오. 이것을 제대로 했다면 '가격'에 대해서는 음의 값을 가지지 않고, '사람 수'에 대해서는 소수점을 갖지 않을 것입니다.\n",
    "\n",
    "<font color = blue> 보너스 : 잘못된 데이터를 가진 게임의 이름을 말할 수 있니?"
   ]
  },
  {
   "cell_type": "code",
   "execution_count": null,
   "metadata": {},
   "outputs": [],
   "source": [
    "#your answer here"
   ]
  },
  {
   "attachments": {},
   "cell_type": "markdown",
   "metadata": {},
   "source": [
    "이제 게임의 가격과 게임을 좋아하는 사람의 수 사이에 선형관계가 있는 것을 확인할 수 있습니다. 더 많은 사람들이 게임을 좋아할 때, 게임 가격은 높아집니다.\n",
    "\n",
    "그러나 선형관계에 적합하지 않은 점을 발견할 수 있습니까?\n",
    "\n",
    "당신 말이 맞습니다. 녹색 점이 선형관계에 적합하지 않습니다. 게임 가격과 게임을 좋아하는 사람의 수가 현실적인 것처럼 보이기 때문에 잘못된 데이터 대신에 이상치가 될 가능성이 있습니다. 다시 한번 상기시키면 이상치는 잘못된 데이터 포인트가 아닐 수도 있습니다. 이 경우, 단지 12 명이 좋아하는 매우 비싼 게임일 수 있습니다.\n",
    "\n",
    "이상치를 제거하도록 선택하거나 유지할 수 있습니다. 충분한 데이터 포인트가 있거나 이상치를 대체하기 위해 더 많은 포인트를 수집 할 수 있는 경우, dataset에서 특이점을 제거 할 수 있습니다. 이상치를 제거해야 하는지를 결정하는 엄격한 규칙은 없습니다. 그러나 이상치가 대부분의 dataset을 구성한다면, dataset을 제거하지 말고 더 많은 데이터를 수집하여 실제로 이상치인지 확인하십시오. 이 예에서는 하나의 이상치가 있는 것처럼 보이기 때문에 이상치를 제거합니다. 이상치를 제거하고 새로운 산점도를 아래에 플로팅하십시오."
   ]
  },
  {
   "cell_type": "code",
   "execution_count": null,
   "metadata": {},
   "outputs": [],
   "source": [
    "#your code here"
   ]
  },
  {
   "cell_type": "markdown",
   "metadata": {},
   "source": [
    "우리는 게임의 가격이 게임을 좋아하는 사람의 수와 선형적이고 증가하는 관계를 공유한다는 것을 새로운 산점도에서 관찰할 수 있습니다."
   ]
  },
  {
   "cell_type": "markdown",
   "metadata": {},
   "source": [
    "## 1.2 dataframes에서 잘못된 데이터 다루기"
   ]
  },
  {
   "cell_type": "markdown",
   "metadata": {},
   "source": [
    "CSV 파일 \"Students_Score1.csv\"가 제공됩니다. \"공부한 시간, 수학, 영어, 과학\"에 대한 학생의 시험 점수 데이터가 포함되어 있습니다. 학생들은 공부하는데 더 많은 시간을 할애 할 때 점수가 더 높아야한다고 가정합니다. 그러나 연구에 따르면 학생은 하루에 16 시간 이상 공부할 수 없다고 합니다. 또한 일부 데이터가 잘못되었을 수도 있습니다. 데이터에서 오류가 식별되면 전체 데이터 행을 제거해야합니다. 잘못된 데이터를 식별하고 제거하는데 도움을 줄 수 있습니까?"
   ]
  },
  {
   "cell_type": "markdown",
   "metadata": {},
   "source": [
    "먼저 dataframe을 df로 데이터에 로드합니다."
   ]
  },
  {
   "cell_type": "code",
   "execution_count": null,
   "metadata": {},
   "outputs": [],
   "source": [
    "#your code here"
   ]
  },
  {
   "cell_type": "markdown",
   "metadata": {},
   "source": [
    "df의 헤더와 처음 5 행을 출력하십시오. 추가적으로 df의 .info()를 출력하십시오. 이렇게하면 열 이름을 이해하고 누락 된값을 확인하는 데 도움이됩니다."
   ]
  },
  {
   "cell_type": "code",
   "execution_count": null,
   "metadata": {},
   "outputs": [],
   "source": [
    "#your code here"
   ]
  },
  {
   "cell_type": "markdown",
   "metadata": {},
   "source": [
    "이제 열의 이름을 알 수 있습니다. 우리는 잘못된 데이터를 확인하기 위해 시간과 점수에 대한 최소값과 최대값을 알아야 합니다. 이러한 세부사항을 확인하려면 .describe()를 인쇄하십시오."
   ]
  },
  {
   "cell_type": "code",
   "execution_count": null,
   "metadata": {},
   "outputs": [],
   "source": [
    "#your code here"
   ]
  },
  {
   "cell_type": "markdown",
   "metadata": {},
   "source": [
    "위에서 제시한 최소값과 최대값에서 어떤 열에 잘못된 데이터가 있는지 확인할 수 있습니까?"
   ]
  },
  {
   "cell_type": "code",
   "execution_count": null,
   "metadata": {},
   "outputs": [],
   "source": [
    "#your answer here"
   ]
  },
  {
   "cell_type": "markdown",
   "metadata": {},
   "source": [
    "이제 잘못된 데이터를 제거해 봅시다. 수학점수부터 먼저 조사하겠습니다. 코드는 0보다 작거나 100보다 작은 수학 점수로 행을 제거할 수 있어야 합니다. 아래 코드를 입력해봐라!"
   ]
  },
  {
   "cell_type": "code",
   "execution_count": null,
   "metadata": {},
   "outputs": [],
   "source": [
    "#your code here"
   ]
  },
  {
   "cell_type": "markdown",
   "metadata": {},
   "source": [
    "0 이하와 100 이상의 데이터가 제거되기 전과 후에 '수학점수'에 대한 정보를 비교하십시오. 무엇이 눈에 띄나요?"
   ]
  },
  {
   "cell_type": "code",
   "execution_count": null,
   "metadata": {},
   "outputs": [],
   "source": [
    "#your answer here"
   ]
  },
  {
   "cell_type": "markdown",
   "metadata": {},
   "source": [
    "앞서 출력한 표와 인쇄물을 비교해보면, 수학점수가 0 에서 96 까지의 범위를 보인다. 또한, .info()에서 데이터 포인트의 수가 267에서 261로 감소했음을 알 수 있다. 이는 수학점수에 있어서 잘못된 점이 6개라는 것을 의미한다."
   ]
  },
  {
   "cell_type": "markdown",
   "metadata": {},
   "source": [
    "It is now your turn to remove the erroneous data from the English score, Science score and Hours spent studying in a day columns. Print out the last .describe() and .info(). \n",
    "\n",
    "이제는 영어점수, 과학점수 및 하루 동안 공부하는데 쓴 시간에서 잘못된 데이터를 제거할 차례 입니다. 마지막으로 .describe() 및 .info ()를 출력하십시오."
   ]
  },
  {
   "cell_type": "code",
   "execution_count": null,
   "metadata": {},
   "outputs": [],
   "source": [
    "#your code here"
   ]
  },
  {
   "cell_type": "markdown",
   "metadata": {},
   "source": [
    ".describe()에서 얻은 정보에서 잘못된 데이터를 가진 총 데이터 포인트 수를 식별할 수 있습니까? 각 과목에 대한 올바른 최소값과 최대값을 식별할 수 있습니까?"
   ]
  },
  {
   "cell_type": "code",
   "execution_count": null,
   "metadata": {},
   "outputs": [],
   "source": [
    "#your answer here"
   ]
  },
  {
   "cell_type": "markdown",
   "metadata": {},
   "source": [
    "## 2. 누락된 데이터(결측치)"
   ]
  },
  {
   "cell_type": "markdown",
   "metadata": {},
   "source": [
    "\n",
    "누락된 데이터는 dataset내의 틈을 의미합니다. 모든 데이터 포인트를 수집할 수 있는 것은 아닙니다. 예를 들어, 우편 배달원이 매일 배달하는 편지 수를 세야 한다면, 우편 배달부가 휴가를 떠난 날에 대한 데이터는 없을 수 있습니다. 따라서, 해당 날짜의 데이터를 누락된 데이터로 채웁니다. 데이터가 누락된 또 다른 가능한 이유는 데이터를 수집하는 사람의 부주의 때문일 수 있습니다. 때로는 데이터를 수집하는 사람이 데이터를 dataset에 입력하는 것을 잊어 버렸을 수도 있습니다. 또한 설문 조사 양식에서 데이터를 얻는 경우에는 불완전한 양식으로 인해 누락된 데이터가 발생할 것으로 예상 할 수 있습니다. 이것은 모든 사람이 설문조사 양식의 모든 입력란을 채우지 않기 때문이다. \n",
    "\n",
    "아래에 나열된 시나리오에서 누락된 데이터가 있을 수 있는 몇 가지 이유를 제시 할 수 있습니까?\n",
    "- 교사가 하루에 학교에서 보내는 시간\n",
    "- 하루 종일 회사원이 휴대전화로받는 전화 건 수\n",
    "- 귀하가 사는 도시의 기온"
   ]
  },
  {
   "cell_type": "code",
   "execution_count": null,
   "metadata": {},
   "outputs": [],
   "source": [
    "#your answer here"
   ]
  },
  {
   "cell_type": "markdown",
   "metadata": {},
   "source": [
    "누락된 데이터는 다양한 형태를 가질 수 있습니다. 일반적으로 누락된 데이터는 NaN 으로 사용하지만 일부 dataset은 누락된 데이터를 나타내기 위해 매우 큰 숫자 또는 매우 작은 숫자를 사용합니다. 한 가지 예가 기상 또는 기상 데이터의 예입니다. -9999 값은 dataset의 누락된 데이터 값을 나타내는데 사용됩니다.\n",
    "\n",
    "분석을 수행하기 전에 이러한 누락된 데이터 값을 dataset에서 제거하거나 바꾸는 것이 중요합니다. 이것은 분석의 정확성을 보장하기 위한 것입니다.\n",
    "\n",
    "아래 예에서 이러한 누락된 데이터 값을 식별하고 처리하는 방법을 배우게 됩니다."
   ]
  },
  {
   "cell_type": "markdown",
   "metadata": {},
   "source": [
    "## 2.1 주택 가격"
   ]
  },
  {
   "cell_type": "markdown",
   "metadata": {},
   "source": [
    "여러분과 여러분의 친구, Ben은 이웃에 있는 집값이 집 안의 방의 개수와 관련이 있는지를 확인하는 과제를 부여 받았습니다. 좋은 친구인 Ben은 모든 데이터를 수집하기로 결심했습니다. 그러나 Ben은 부주의해서 일부 데이터 포인트를 놓쳤을지도 모른다.혹시 누락된 데이터가 있는지 확인하는 걸 도와줄 수 있나요?\n",
    "\n",
    "데이터는 아래와 같습니다. House_prices는 집의 가격을 미국 달러 (USD)로, Num_rooms은 집의 방의 수로 나타냅니다. 코드를 실행하고 출력을 주의 깊게 관찰하십시오! 코드를 실행하기 전에 numpy를 np로 가져 왔는지 확인하십시오."
   ]
  },
  {
   "cell_type": "code",
   "execution_count": null,
   "metadata": {},
   "outputs": [],
   "source": [
    "House_prices = [10050,42300,50206,np.nan,105000,np.nan,22350]\n",
    "Num_rooms = [np.nan,4,5,6,10,12,2]\n",
    "\n",
    "print('Total number of data points in House_prices = ',np.count_nonzero(~np.isnan(House_prices)))\n",
    "print('Total number of data points in Num_rooms = ',np.count_nonzero(~np.isnan(Num_rooms)))"
   ]
  },
  {
   "cell_type": "markdown",
   "metadata": {},
   "source": [
    "House_prices의 데이터 포인트 수가 Num_rooms의 데이터 포인트 수와 다른 이유는 무엇입니까? 총 몇 채의 집이 있습니까?"
   ]
  },
  {
   "cell_type": "code",
   "execution_count": null,
   "metadata": {},
   "outputs": [],
   "source": [
    "#your answer here"
   ]
  },
  {
   "cell_type": "markdown",
   "metadata": {},
   "source": [
    "dataset에서 누락된 데이터를 제거하고 아래에 산점도를 그립니다. 축 레이블을 적절하게 지정하십시오.각 누락된 데이터 값에 해당하는 데이터를 제거해야 합니다. 예를 들어, 집값에 누락된 값이 있는 경우 방의 수에 대한 해당 값도 제거해야 합니다. 산점도에서 무엇을 관찰할 수 있는가? 관찰 내용을 적어주세요"
   ]
  },
  {
   "cell_type": "code",
   "execution_count": null,
   "metadata": {},
   "outputs": [],
   "source": [
    "#your code here"
   ]
  },
  {
   "cell_type": "markdown",
   "metadata": {},
   "source": [
    "<font color = blue> 보너스 : 이전 누락된 값의 정확한 값을 추측할 수 있습니까? 누락된 값을 추측하여 바꾸고 산점도를 다시 플롯하십시오!"
   ]
  },
  {
   "cell_type": "code",
   "execution_count": null,
   "metadata": {},
   "outputs": [],
   "source": [
    "#your code here"
   ]
  },
  {
   "cell_type": "markdown",
   "metadata": {},
   "source": [
    "## 2.2 dataframes에서 누락된 값 다루기"
   ]
  },
  {
   "cell_type": "markdown",
   "metadata": {},
   "source": [
    "학생들의 시험 결과 및 학습 시간이 포함된 데이터를 다시 다루도록 요청합니다. 데이터는 \"Students_Score2.csv\"파일에 저장됩니다. 모든 학생들이 공부 시간을 보고한 것은 아니며 따라서 데이터에 누락된 값이 있습니다. 누락된 값을 제거하고 누락된 데이터가 있는 총 학생 수를 보고합니다."
   ]
  },
  {
   "cell_type": "markdown",
   "metadata": {},
   "source": [
    "먼저 dataframe을 df로 데이터에 로드합니다."
   ]
  },
  {
   "cell_type": "code",
   "execution_count": null,
   "metadata": {},
   "outputs": [],
   "source": [
    "#your code here"
   ]
  },
  {
   "cell_type": "markdown",
   "metadata": {},
   "source": [
    "df의 헤더와 처음 5 행을 출력하십시오. 추가적으로 df의 .info()를 출력하십시오."
   ]
  },
  {
   "cell_type": "code",
   "execution_count": null,
   "metadata": {},
   "outputs": [],
   "source": [
    "#your code here"
   ]
  },
  {
   "cell_type": "markdown",
   "metadata": {},
   "source": [
    ".info() 출력에서 각 열에 대해 서로 다른 수의 행을 관찰 했습니까? 행 수가 다른 이유는 누락된 숫자가 있기 때문입니다."
   ]
  },
  {
   "cell_type": "markdown",
   "metadata": {},
   "source": [
    "누락된 값을 다루기 전에 먼저 잘못된 데이터가 있는지 확인해야 합니다. .describe()를 출력하고 최소값과 최대값을 관찰하십시오."
   ]
  },
  {
   "cell_type": "code",
   "execution_count": null,
   "metadata": {},
   "outputs": [],
   "source": [
    "#your code here"
   ]
  },
  {
   "cell_type": "markdown",
   "metadata": {},
   "source": [
    "우리는 이제 공부하는데 걸리는 시간이 0 과 15 이고, 모든 점수가 0 과 100 사이라는 것을 볼 수 있습니다. 이는 dataset내에 오류가 없음을 보여줍니다."
   ]
  },
  {
   "cell_type": "markdown",
   "metadata": {},
   "source": [
    "이제 dataset에서 누락된 값을 제거할 수 있습니다. pandas는 우리가 쉽게 할 수 있도록 좋은 기능을 가지고 있습니다. .dropna()라고합니다. 누락된 값을 행이나 열로 삭제할 때 사용할 수 있습니다. 예를 들어 누락된 값이 있는 행을 제거하려면 df.dropna(axis = 0)를 호출하면됩니다. 누락된 값이 있는 열을 제거하려면 df.dropna(axis = 1)를 호출하면 됩니다. .dropna() [here](https://pandas.pydata.org/pandas-docs/stable/reference/api/pandas.DataFrame.dropna.html)에 대한 자세한 내용을 확인할 수 있습니다."
   ]
  },
  {
   "cell_type": "markdown",
   "metadata": {},
   "source": [
    "In the case of the students scores, should we remove the missing values by rows or by columns?\n",
    "\n",
    "학생들 점수의 경우, 행이나 열별로 누락된 값을 제거해야합니까?"
   ]
  },
  {
   "cell_type": "code",
   "execution_count": null,
   "metadata": {},
   "outputs": [],
   "source": [
    "#your answer here"
   ]
  },
  {
   "cell_type": "markdown",
   "metadata": {},
   "source": [
    "이제 아래 누락된 값을 제거 할 수있는 코드를 작성하십시오. .dropna()를 사용하여 누락된 값을 제거하는 방법에 대한 정보는 이 [link](https://pandas.pydata.org/pandas-docs/stable/generated/pandas.DataFrame.dropna.html)에서 참조할 수 있습니다. 원본 dataframe을 편집하지 않기 위해 출력을 새로운 dataframe에 할당해야합니다. df2 = df. (여기서 함수)를 사용하여 새로운 dataframe에 할당 할 수 있습니다."
   ]
  },
  {
   "cell_type": "code",
   "execution_count": null,
   "metadata": {},
   "outputs": [],
   "source": [
    "#your code here"
   ]
  },
  {
   "cell_type": "markdown",
   "metadata": {},
   "source": [
    "새로운 dataframe에 대해 .info()를 인쇄하고 각 열에 대해 null이 아닌 값의 수를 관찰합니다."
   ]
  },
  {
   "cell_type": "code",
   "execution_count": null,
   "metadata": {},
   "outputs": [],
   "source": [
    "#your code here"
   ]
  },
  {
   "cell_type": "markdown",
   "metadata": {},
   "source": [
    "행의 수가 현재 모든 열에서 동일하다는 것을 알 수 있습니까? 누락된 값을 가진 학생은 얼마나 많이 있나요?"
   ]
  },
  {
   "cell_type": "code",
   "execution_count": null,
   "metadata": {},
   "outputs": [],
   "source": [
    "#your answer here"
   ]
  },
  {
   "cell_type": "markdown",
   "metadata": {},
   "source": [
    "<font color = Blue> 보너스 : 누락된 값을 쉽게 제거할 수 있지만 dataset이 매우 작은 경우에는 그렇게하지 않습니다. 값을 제거하면 dataset이 더 작아집니다. 따라서 누락된 값을 다른 값으로 채울 수도 있습니다. 누락된 값을 평균값 또는 가장 빈번한 값으로 채울 수 있습니다. 예를 들어 수학 점수 값이 누락된 경우 모든 학생에 대한 수학 점수의 평균값을 찾아 누락 값을 해당 값으로 채울 수 있습니다. 아래 코드를 시험해보고 출력을 관찰하십시오!"
   ]
  },
  {
   "cell_type": "code",
   "execution_count": null,
   "metadata": {},
   "outputs": [],
   "source": [
    "#The .copy allows the copying of the whole dataframe to prevent changing the orginal dataframe\n",
    "#your code here"
   ]
  },
  {
   "cell_type": "markdown",
   "metadata": {},
   "source": [
    "이제 수학 점수에 누락된 값이 채워지고 이전에 표시된 383 개의 null이 아닌 값 대신 387 개의 null이 아닌 값이 있음을 확인할 수 있습니다. 이제 나머지 열의 누락된 값을 각각의 평균으로 채우십시오."
   ]
  },
  {
   "cell_type": "code",
   "execution_count": null,
   "metadata": {},
   "outputs": [],
   "source": [
    "#your code here"
   ]
  }
 ],
 "metadata": {
  "kernelspec": {
   "display_name": "Python 3",
   "language": "python",
   "name": "python3"
  },
  "language_info": {
   "codemirror_mode": {
    "name": "ipython",
    "version": 3
   },
   "file_extension": ".py",
   "mimetype": "text/x-python",
   "name": "python",
   "nbconvert_exporter": "python",
   "pygments_lexer": "ipython3",
   "version": "3.7.1"
  }
 },
 "nbformat": 4,
 "nbformat_minor": 2
}
