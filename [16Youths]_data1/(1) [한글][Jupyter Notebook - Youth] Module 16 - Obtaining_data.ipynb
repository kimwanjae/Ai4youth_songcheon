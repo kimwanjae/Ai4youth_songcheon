{
 "cells": [
  {
   "cell_type": "markdown",
   "metadata": {
    "colab_type": "text",
    "id": "-YdfrGhXaSww"
   },
   "source": [
    "# 데이터 가져 오기 및 처리"
   ]
  },
  {
   "cell_type": "markdown",
   "metadata": {
    "colab_type": "text",
    "id": "THfcvkzNaSwy"
   },
   "source": [
    "dataset은 모든 데이터 과학 프로젝트에서 필수적입니다! 보유한 데이터가 많을수록 기능 간의 관계를 쉽게 식별 할 수 있습니다. 그러나 데이터 분석을 수행하기 전에 dataset을 컴퓨터에서 이해하는 것도 중요합니다. 따라서 이 연습의 주요 목적은 데이터 분석이나 기계 학습을 수행하기 전에 dataset을 가져 와서 처리하는 데 필요한 기술을 갖추는 것입니다."
   ]
  },
  {
   "cell_type": "markdown",
   "metadata": {
    "colab_type": "text",
    "id": "Msb1KXoIaSw0"
   },
   "source": [
    "## 1. 데이터 가져오기"
   ]
  },
  {
   "cell_type": "markdown",
   "metadata": {
    "colab_type": "text",
    "id": "Tr-GKbJkaSw2"
   },
   "source": [
    "무료로 데이터를 얻을 수 있는 많은 웹 사이트가 있습니다. 여기에는 Kaggle (https://www.kaggle.com/)과 University of California Irvine (https://archive.ics.uci.edu/ml/datasets.html/) (UCI)도 포함됩니다. dataset을 수동으로 다운로드하여 컴퓨터의 새 폴더에 저장할 수 있습니다. 그러나 이렇게 하면 시간이 오래 걸릴 수도 있습니다. 따라서,이 과정을 자동화하는 작은 트릭이 있습니다! 이 스크립트를 magic.py 입니다. 시도해보십시요!\n",
    "\n",
    "스크립트가 작동하려면 Python 가상 환경에 os, wget, pandas 및 matplotlib 라이브러리가 설치되어 있어야합니다.\n",
    "\n",
    "아래의 셀을 실행하는 동안 오류가 발생하면 첫 번째 행을 주석 처리하십시오. # % matplotlib qt"
   ]
  },
  {
   "cell_type": "code",
   "execution_count": 1,
   "metadata": {
    "colab": {},
    "colab_type": "code",
    "id": "g2YHGbLwaSw4",
    "outputId": "8ad0ff6c-6479-45af-9d04-c4894f7ddd63"
   },
   "outputs": [
    {
     "name": "stdout",
     "output_type": "stream",
     "text": [
      "Current working directory: C:\\testAI\\john_19.5.24\\[16Youths]\n",
      "Newly created directory to store files: C:\\testAI\\john_19.5.24\\[16Youths]\\Magic_Data\n",
      "Downloading file..........\n",
      "\n",
      "\n",
      "File has been downloaded!\n",
      "Performing super difficult data analysis..........\n"
     ]
    }
   ],
   "source": [
    "%matplotlib qt\n",
    "%run \"magic.py\""
   ]
  },
  {
   "cell_type": "markdown",
   "metadata": {
    "colab_type": "text",
    "id": "bYcAogTVaSxC"
   },
   "source": [
    "만세! 데이터를 성공적으로 다운로드하고 그래프가 자동으로 그려졌습니다. magic.py 파일을 열지 않고 데이터를 다운로드 한 위치를 추측 할 수 있습니까? 위의 출력된 내용은 힌트를 제공합니다!"
   ]
  },
  {
   "cell_type": "code",
   "execution_count": 0,
   "metadata": {
    "colab": {},
    "colab_type": "code",
    "id": "toe2Wgb6aSxD"
   },
   "outputs": [],
   "source": [
    "#your answer here"
   ]
  },
  {
   "cell_type": "markdown",
   "metadata": {
    "colab_type": "text",
    "id": "R0hU1t33aSxG"
   },
   "source": [
    "<font color = blue> 보너스 : 그림이 정확히 보이나요? x 축에 음수 값과 검정색 선을 설명 할 수 있습니까?"
   ]
  },
  {
   "cell_type": "code",
   "execution_count": 3,
   "metadata": {},
   "outputs": [],
   "source": [
    "#your answer here"
   ]
  },
  {
   "cell_type": "markdown",
   "metadata": {
    "colab_type": "text",
    "id": "v1CqAIo8aSxL"
   },
   "source": [
    "## 1.1 아이리스(붓꽃) dataset 다운로드"
   ]
  },
  {
   "cell_type": "markdown",
   "metadata": {
    "colab_type": "text",
    "id": "IEcfNX70aSxM"
   },
   "source": [
    "이제는 직접 dataset를 가져올 차례입니다. 사용되는 dataset은 유명한 아이리스 꽃 dataset입니다. dataset은 http://archive.ics.uci.edu/ml/machine-learning-databases/iris/ 에서 다운로드 할 수 있습니다. 다운로드 할 파일은 iris.data입니다. dataset에 대한 자세한 내용은 https://en.wikipedia.org/wiki/Iris_flower_data_set 에서 얻을 수 있습니다. 다음 내용을 진행하기 전에 dataset에 대해 설명하십시요."
   ]
  },
  {
   "cell_type": "markdown",
   "metadata": {
    "colab_type": "text",
    "id": "myyrcY8EaSxN"
   },
   "source": [
    "dataset를 저장할 새폴더를 만듭니다. urllib.request.urlretrieve함수를 사용하여 dataset를 자동으로 다운로드하려면 아래 코드를 작성해야 합니다. magic.py내의 코드를 참고하여 작성하십시요.\n",
    "\n",
    "magic.py내의 소스를 보려면 폴더에서 magic.py파일을 찾으십시오. 마우스 오른쪽 버튼으로 클릭하고 워드 패드로 엽니다.\n",
    "\n",
    "<font color = blue> 보너스 : 2 줄의 코드 만 사용하여 데이터를 다운로드하십시오!"
   ]
  },
  {
   "cell_type": "code",
   "execution_count": 0,
   "metadata": {
    "colab": {},
    "colab_type": "code",
    "id": "RMnYNX7YaSxO"
   },
   "outputs": [],
   "source": [
    "#your code here"
   ]
  },
  {
   "cell_type": "markdown",
   "metadata": {
    "colab_type": "text",
    "id": "lIWPesDCaSxR"
   },
   "source": [
    "잘 했어! 이제 데이터를 다운로드했습니다! 우리는 이제 데이터에 액세스하여 그 기능 중 일부를 배울 것입니다. 이를 위해 'pandas'라는 Python 라이브러리를 살펴 보겠습니다."
   ]
  },
  {
   "cell_type": "markdown",
   "metadata": {
    "colab_type": "text",
    "id": "uKRJq_OWaSxT"
   },
   "source": [
    "## 1.2 Pandas 소개"
   ]
  },
  {
   "cell_type": "markdown",
   "metadata": {
    "colab_type": "text",
    "id": "xk5z-Lo1aSxU"
   },
   "source": [
    "Pandas는 dataset를 가져올 수있는 강력한 도구입니다. 데이터를 쉽게 처리 할 수있는 [dataframe](https://www.datacamp.com/community/tutorials/pandas-tutorial-dataframe-python)으로 구성하여 쉽게 통계 분석이 가능합니다.\n",
    "\n",
    "이 [article](https://towardsdatascience.com/a-quick-introduction-to-the-pandas-python-library-f1b678f34673)을 읽고 [video](https://www.youtube.com/watch?v=dcqPhpY7tWk)를 시청하십시오. Pandas에 대한 간단한 소개 : Pandas의 용도 및 사용 방법\n",
    "\n",
    "데이터 가져오기 및 데이터 보기에 대한 내용을 주의 깊게 살펴보십시오. 나중에 연습했던 일부 기능을 사용할 것입니다.\n",
    "\n",
    "워크시트에서 Pandas에 대해 배운 것을 요약하십시오.\n",
    "- Pandas를 어떻게 설치하고 사용합니까?\n",
    "- Pandas가 사용되는 파일의 일반적인 유형은 무엇입니까?\n",
    "- dataframe이란 무엇입니까?\n",
    "- dataframe의 행과 열에 어떻게 액세스 합니까?\n",
    "- 일반적으로 사용되는 Pandas기능의 이름을 지정하고 설명하십시오."
   ]
  },
  {
   "cell_type": "code",
   "execution_count": 0,
   "metadata": {
    "colab": {},
    "colab_type": "code",
    "id": "AyT4tG_daSxV"
   },
   "outputs": [],
   "source": [
    "#your answer here"
   ]
  },
  {
   "cell_type": "markdown",
   "metadata": {
    "colab_type": "text",
    "id": "N-QF8J_6aSxZ"
   },
   "source": [
    "이제 Pandas의 일부 기능을 사용하여 데이터에 액세스 할 수 있게 하십시오. 첫 번째 단계는Pandas를 가져오는 것입니다. Pandas를 pd로 가져와보십시오."
   ]
  },
  {
   "cell_type": "code",
   "execution_count": 0,
   "metadata": {
    "colab": {},
    "colab_type": "code",
    "id": "dhvBRe9maSxa"
   },
   "outputs": [],
   "source": [
    "#your code here"
   ]
  },
  {
   "cell_type": "markdown",
   "metadata": {
    "colab_type": "text",
    "id": "d9fK1C6PaSxd"
   },
   "source": [
    "Pandas를 가져온 후 아이리스 꽃 dataset을 읽으려고 합니다. dataset은 쉼표로 구분 된 값 파일 (CSV)로 저장됩니다. CSV 파일의 데이터에 액세스하려면 CSV 파일에 대해 많이 이해해야합니다."
   ]
  },
  {
   "cell_type": "markdown",
   "metadata": {
    "colab_type": "text",
    "id": "E19thKqyaSxe"
   },
   "source": [
    "## 1.2.1 쉼표로 구분 된 값 (CSV) 파일"
   ]
  },
  {
   "cell_type": "markdown",
   "metadata": {
    "colab_type": "text",
    "id": "M62n4NVZaSxf"
   },
   "source": [
    "dataset는 주로 CSV 파일에 저장됩니다. CSV 파일에는 쉼표 문자 또는 다른 문자로 구분된 데이터가 들어 있습니다. 예를 들어 사람 이름이 들어있는 CSV 파일은 John, Mary, Harry, Luke로 저장 될 수 있습니다. 이름 사이의 쉼표는 컴퓨터에 하나의 이름을 다른 이름과 구분할 위치를 알려줍니다.\n",
    "\n",
    "파일은 대개 .csv 확장자를 갖지만 이 확장자를 따르지 않는 파일이 있습니다. 하나의 예가 아이리스 꽃 데이터입니다.\n",
    "\n",
    "CSV 파일에 대해 자세히 알아보려면 이 [article](https://www.howtogeek.com/348960/what-is-a-cscs-file-and-how-do-i-open-it/)을 참조하십시오. 어떻게 액세스 할 수 있습니까?"
   ]
  },
  {
   "cell_type": "code",
   "execution_count": 0,
   "metadata": {
    "colab": {},
    "colab_type": "code",
    "id": "cDsFZlfoaSxg"
   },
   "outputs": [],
   "source": [
    "#your answer here"
   ]
  },
  {
   "cell_type": "markdown",
   "metadata": {
    "colab_type": "text",
    "id": "EJ-nEupOaSxj"
   },
   "source": [
    "<font color = blue> 보너스 : CSV 파일의 특성을 이해한 후, 데이터 파일이 CSV 파일인지 여부를 어떻게 확인합니까? 어떤 파이썬 함수를 사용하면 작업을 수행할 수 있습니까?"
   ]
  },
  {
   "cell_type": "code",
   "execution_count": 0,
   "metadata": {
    "colab": {},
    "colab_type": "code",
    "id": "4sQKqSkpaSxk"
   },
   "outputs": [],
   "source": [
    "#your answer here"
   ]
  },
  {
   "cell_type": "markdown",
   "metadata": {
    "colab_type": "text",
    "id": "ff_cSddFaSxm"
   },
   "source": [
    "## 1.2.2 아이리스 꽃 dataset"
   ]
  },
  {
   "cell_type": "markdown",
   "metadata": {
    "colab_type": "text",
    "id": "luYPiLxZaSxn"
   },
   "source": [
    "아이리스 꽃 dataset은 .data 확장자가 있더라도 CSV 파일입니다. 이제 pd.read_csv() 함수를 사용하여 dataset을 열고, 변수 df에 할당합니다. 그런 다음 dataframe의 처음 5 행을 인쇄하여 데이터 속성을 확인하십시오. 무엇을 주의해야 할까요?"
   ]
  },
  {
   "cell_type": "code",
   "execution_count": 0,
   "metadata": {
    "colab": {},
    "colab_type": "code",
    "id": "sEVfohq4aSxo"
   },
   "outputs": [],
   "source": [
    "#your code here"
   ]
  },
  {
   "cell_type": "markdown",
   "metadata": {
    "colab_type": "text",
    "id": "svZ8sbZqaSxs"
   },
   "source": [
    "dataframe의 헤더/컬럼(열)의 이름이 없다는 것을 알고 계셨습니까? 원본 파일에 헤더/컬럼(열)의 이름이 없기 때문에 이런 현상이 발생합니다. 따라서 데이터 파일을 사용하기 전에 데이터 파일에 대한 자세한 정보를 찾는 것이 항상 중요합니다.\n",
    "\n",
    "이전 다운로드 [링크](http://archive.ics.uci.edu/ml/machine-learning-databases/iris/iris.names) 의 iris.names 파일에서 자세한 정보를 찾을 수 있습니다. iris.names 파일의 7번 (Attribute Information) 아래에 컬럼(열)의 이름을 나열했습니다. 필요한 이름은 무엇입니까?"
   ]
  },
  {
   "cell_type": "code",
   "execution_count": 0,
   "metadata": {
    "colab": {},
    "colab_type": "code",
    "id": "WqIxmdCgaSxt"
   },
   "outputs": [],
   "source": [
    "#your answer here"
   ]
  },
  {
   "cell_type": "markdown",
   "metadata": {
    "colab_type": "text",
    "id": "FuMlox-xaSxw"
   },
   "source": [
    "아래의 그림 (소스 : https://www.researchgate.net/figure/Trollius-ranunculoide-flower-with-measured-traits_fig6_272514310) 을 참조하여 변수 \"sepal_length\", \"sepal_width\", \"petal_length\" 및 \"petal_width\"을 이해하세요"
   ]
  },
  {
   "cell_type": "markdown",
   "metadata": {
    "colab_type": "text",
    "id": "6hGSifnXaSxx"
   },
   "source": [
    "<img src = \"./resources/PetalSepal1.png\">"
   ]
  },
  {
   "cell_type": "markdown",
   "metadata": {
    "colab_type": "text",
    "id": "98Mj-zMHaSxz"
   },
   "source": [
    "이제 이름을 dataframe에 포함 시키려고합니다. 데이터에 누락된 헤더가 있음을 지정하려면 데이터를 다시 dataframe으로 읽는 것이 필요합니다. 이렇게 하면 나중에 dataframe에 이름을 추가 할 수 있습니다. 처음 2 개의 이름을 추가하는 코드는 아래와 같습니다. 상위 5 행을 다시 출력하기 전에 다른 이름을 포함하도록 코드를 수정하십시오."
   ]
  },
  {
   "cell_type": "code",
   "execution_count": 3,
   "metadata": {
    "colab": {},
    "colab_type": "code",
    "id": "xIFzntYlaSx0"
   },
   "outputs": [
    {
     "name": "stdout",
     "output_type": "stream",
     "text": [
      "   sepal_length  sepal_width  petal_length  petal_width        class\n",
      "0           5.1          3.5           1.4          0.2  Iris-setosa\n",
      "1           4.9          3.0           1.4          0.2  Iris-setosa\n",
      "2           4.7          3.2           1.3          0.2  Iris-setosa\n",
      "3           4.6          3.1           1.5          0.2  Iris-setosa\n",
      "4           5.0          3.6           1.4          0.2  Iris-setosa\n"
     ]
    }
   ],
   "source": [
    "df = pd.read_csv(\"./data/iris.data\",header=None)\n",
    "#names = [#your code here]\n",
    "#your code here\n",
    "    \n",
    "names = [\"sepal_length\", \"sepal_width\",\"petal_length\", \"petal_width\", \"class\"]\n",
    "df.columns = names    \n",
    "print(df.head())"
   ]
  },
  {
   "cell_type": "markdown",
   "metadata": {
    "colab_type": "text",
    "id": "3Oygv8doaSx5"
   },
   "source": [
    "적절한 라벨을 사용하면, pandas를 사용하여 dataset에 대한 기본 정보(행과 열의 수, 데이터 유형, 누락된 값 및 기초 통계값)를 얻을 수 있습니다. .info() 및 .describe()를 사용하여 dataset에 대한 기본 정보를 얻으십시오!"
   ]
  },
  {
   "cell_type": "code",
   "execution_count": 4,
   "metadata": {
    "colab": {},
    "colab_type": "code",
    "id": "UF6PjBl_aSx8"
   },
   "outputs": [
    {
     "name": "stdout",
     "output_type": "stream",
     "text": [
      "<class 'pandas.core.frame.DataFrame'>\n",
      "RangeIndex: 150 entries, 0 to 149\n",
      "Data columns (total 5 columns):\n",
      "sepal_length    150 non-null float64\n",
      "sepal_width     150 non-null float64\n",
      "petal_length    150 non-null float64\n",
      "petal_width     150 non-null float64\n",
      "class           150 non-null object\n",
      "dtypes: float64(4), object(1)\n",
      "memory usage: 5.9+ KB\n"
     ]
    }
   ],
   "source": [
    "#your code here\n",
    "df.info()"
   ]
  },
  {
   "cell_type": "markdown",
   "metadata": {
    "colab_type": "text",
    "id": "6lo55BdBaSx-"
   },
   "source": [
    "획득한 정보를 기반으로 dataset에 150개의 다른 꽃이 있으며 dataset에 누락된 값이 없음을 확인해야 합니다."
   ]
  },
  {
   "cell_type": "markdown",
   "metadata": {
    "colab_type": "text",
    "id": "od_yIKS1aSx_"
   },
   "source": [
    "## 이제 dataset을 자동으로 다운로드하고 Pandas를 사용하여 가져올 수 있습니다. 또한 Pandas 기능을 사용하여 dataset에 대한 기본 정보를 얻는 방법을 배웠습니다. 이제 우리는이 모든 기술을 잘 활용해야하는 수업 활동으로 넘어갈 것입니다!"
   ]
  },
  {
   "cell_type": "code",
   "execution_count": null,
   "metadata": {},
   "outputs": [],
   "source": []
  }
 ],
 "metadata": {
  "colab": {
   "name": "(1) Obtaining_data_Student.ipynb",
   "provenance": [],
   "version": "0.3.2"
  },
  "kernelspec": {
   "display_name": "Python 3",
   "language": "python",
   "name": "python3"
  },
  "language_info": {
   "codemirror_mode": {
    "name": "ipython",
    "version": 3
   },
   "file_extension": ".py",
   "mimetype": "text/x-python",
   "name": "python",
   "nbconvert_exporter": "python",
   "pygments_lexer": "ipython3",
   "version": "3.7.1"
  }
 },
 "nbformat": 4,
 "nbformat_minor": 1
}
