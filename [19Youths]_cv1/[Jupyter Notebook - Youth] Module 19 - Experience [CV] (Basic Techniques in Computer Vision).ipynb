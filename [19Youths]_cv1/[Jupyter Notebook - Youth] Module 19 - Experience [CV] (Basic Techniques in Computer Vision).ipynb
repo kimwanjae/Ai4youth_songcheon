{
 "cells": [
  {
   "cell_type": "markdown",
   "metadata": {},
   "source": [
    "# Introduction to Computer Vision\n",
    "*Version 1.1*\n",
    "\n",
    "위아래로 이동하려면 키보드의 위쪽 및 아래쪽 화살표 키를 사용할 수 있습니다\n",
    "이 통합 문서에서 코드를 실행하려면 코드 블록을 선택하고 Shift + Enter를 누릅니다.\n",
    "코드 블록을 편집하려면 Enter 키를 누릅니다.\n",
    "\n",
    "이 통합 문서의 코드는 누적됩니다. (노트북이 닫힐 때까지 계속 정의 된 변수)\n",
    "따라서 예상치 못한 결과를 피하기 위해 정상에서 시작하여 아래로 작업하십시오!\n",
    "\n",
    "Jupyter Notebook 사용에 대한 추가 도움말을 보려면 위의 메뉴에서 도움말> 사용자 인터페이스 둘러보기를 클릭하십시오.\n",
    "또는 https://jupyter-notebook.readthedocs.io/en/stable/ui_components.html을 방문하십시오.\n",
    "\n",
    "아이디어를 실험하고 테스트 해보십시오. 가장 빠른 학습 방법 중 하나입니다."
   ]
  },
  {
   "cell_type": "markdown",
   "metadata": {},
   "source": [
    "## 1. 컴퓨터는 어떻게 보입니까?\n",
    "앞에서 icebreaker를 했을때, 여러분의 친구들은 말을 할 수 없지만 손목 밴드에 기록 된 내용을 토대로 친구를 쉽게 식별 할 수 있습니다. \n",
    "여러분은 눈으로 보았고 뇌는 그 정보를 처리했습니다.\n",
    "\n",
    "컴퓨터에서 비슷한 것을 할 수 있습니까?\n",
    "우리는 어디서부터 시작합니까?\n",
    "\n",
    "우리가 친구를 어떻게 인식했는지와 비슷하게 두부분으로 구분할 수 있습니다.<br>\n",
    "1) 여러분의 눈을 통해 보았고<br>\n",
    "2) 우리가 보는 것을 이해합니다 (친구를 인식하거나, 손목 밴드에 글이나 그림을 그린 것)"
   ]
  },
  {
   "cell_type": "markdown",
   "metadata": {},
   "source": [
    "### Getting started with code"
   ]
  },
  {
   "cell_type": "markdown",
   "metadata": {},
   "source": [
    "이 워크샵에서 우리는 Python 및 OpenCV를 사용할 것입니다.\n",
    "\n",
    "또 다른 유용한 파이썬 라이브러리는 빠른 배열 조작에 매우 유용한 Numpy 라이브러리입니다. 이미지는 실제로 픽셀의 배열 / 행렬로 저장되므로, Numpy는 우리가 더 빠른 이미지 처리를하는 데 매우 유용합니다.\n",
    "\n",
    "Python과 Numpy에 대한 사전 경험이 없다면 <br />\n",
    "당신은 https://www.datacamp.com/courses/intro-to-python-for-data-science에서 좋은 소개를 온라인으로 얻을 수있다.\n",
    "\n",
    "아래 코드 블록을 실행하려면 코드 블록을 선택하고 ** Shift + Enter **를 누르십시오. <br />\n",
    "실행 결과는 코드 블록 바로 아래에 인쇄됩니다. 이 경우 OpenCV 및 Python이 설치된 버전이 표시됩니다.\n",
    "\n",
    "\n",
    "### Importing your Libraries"
   ]
  },
  {
   "cell_type": "code",
   "execution_count": 1,
   "metadata": {},
   "outputs": [],
   "source": [
    "import cv2              #Import the OpenCV Library\n",
    "import numpy as np      #Import the Numpy library\n",
    "import sys\n",
    "\n"
   ]
  },
  {
   "cell_type": "markdown",
   "metadata": {},
   "source": [
    "### 1.1 Seeing. 첫번째 사진을 보도록 하겠습니다."
   ]
  },
  {
   "cell_type": "code",
   "execution_count": 2,
   "metadata": {},
   "outputs": [
    {
     "ename": "NameError",
     "evalue": "name 'cv2' is not defined",
     "output_type": "error",
     "traceback": [
      "\u001b[1;31m---------------------------------------------------------------------------\u001b[0m",
      "\u001b[1;31mNameError\u001b[0m                                 Traceback (most recent call last)",
      "\u001b[1;32m<ipython-input-2-2d51b96bd9a8>\u001b[0m in \u001b[0;36m<module>\u001b[1;34m\u001b[0m\n\u001b[1;32m----> 1\u001b[1;33m \u001b[0mimg\u001b[0m \u001b[1;33m=\u001b[0m \u001b[0mcv2\u001b[0m\u001b[1;33m.\u001b[0m\u001b[0mimread\u001b[0m\u001b[1;33m(\u001b[0m\u001b[1;34m\"images/image001.png\"\u001b[0m\u001b[1;33m)\u001b[0m   \u001b[1;31m#Load the image file into memory\u001b[0m\u001b[1;33m\u001b[0m\u001b[1;33m\u001b[0m\u001b[0m\n\u001b[0m\u001b[0;32m      2\u001b[0m \u001b[1;33m\u001b[0m\u001b[0m\n\u001b[0;32m      3\u001b[0m \u001b[0mcv2\u001b[0m\u001b[1;33m.\u001b[0m\u001b[0mimshow\u001b[0m\u001b[1;33m(\u001b[0m\u001b[1;34m\"Image\"\u001b[0m\u001b[1;33m,\u001b[0m \u001b[0mimg\u001b[0m\u001b[1;33m[\u001b[0m\u001b[1;36m300\u001b[0m\u001b[1;33m:\u001b[0m\u001b[1;36m500\u001b[0m\u001b[1;33m,\u001b[0m\u001b[1;36m0\u001b[0m\u001b[1;33m:\u001b[0m\u001b[1;36m400\u001b[0m\u001b[1;33m,\u001b[0m\u001b[1;36m2\u001b[0m\u001b[1;33m]\u001b[0m\u001b[1;33m)\u001b[0m                 \u001b[1;31m#Display that image\u001b[0m\u001b[1;33m\u001b[0m\u001b[1;33m\u001b[0m\u001b[0m\n\u001b[0;32m      4\u001b[0m \u001b[0mcv2\u001b[0m\u001b[1;33m.\u001b[0m\u001b[0mwaitKey\u001b[0m\u001b[1;33m(\u001b[0m\u001b[1;36m0\u001b[0m\u001b[1;33m)\u001b[0m                            \u001b[1;31m#Cleanup after any key is pressed\u001b[0m\u001b[1;33m\u001b[0m\u001b[1;33m\u001b[0m\u001b[0m\n\u001b[0;32m      5\u001b[0m \u001b[0mcv2\u001b[0m\u001b[1;33m.\u001b[0m\u001b[0mdestroyAllWindows\u001b[0m\u001b[1;33m(\u001b[0m\u001b[1;33m)\u001b[0m\u001b[1;33m\u001b[0m\u001b[1;33m\u001b[0m\u001b[0m\n",
      "\u001b[1;31mNameError\u001b[0m: name 'cv2' is not defined"
     ]
    }
   ],
   "source": [
    "img = cv2.imread(\"images/image001.png\")   #Load the image file into memory\n",
    "\n",
    "cv2.imshow(\"Image\", img[300:500,0:400,2])                 #Display that image\n",
    "cv2.waitKey(0)                            #Cleanup after any key is pressed\n",
    "cv2.destroyAllWindows()"
   ]
  },
  {
   "cell_type": "markdown",
   "metadata": {},
   "source": [
    "#### 위의 코드 블록을 실행 한 후 창을 확인하여 이미지가 생성되었는지 확인하십시오!\n",
    "이 이미지의 크기가 무엇인지 알아 보겠습니다.!"
   ]
  },
  {
   "cell_type": "code",
   "execution_count": 3,
   "metadata": {},
   "outputs": [
    {
     "name": "stdout",
     "output_type": "stream",
     "text": [
      "(600, 800)\n"
     ]
    }
   ],
   "source": [
    "print (img[:,:,2].shape)"
   ]
  },
  {
   "cell_type": "markdown",
   "metadata": {},
   "source": [
    "Great! OpenCV를 사용하여 이미지를 읽고 다른 창에 표시했습니다.\n",
    "\n",
    "그러나 우리는 또한 획득 단계에서 이 노트북의 이미지를 보여주기 위해 다른 라이브러리를 사용할 수 있음을 알게되었습니다. <br>\n",
    "어떤 라이브러리인지 기억하십니까?\n",
    "\n",
    "### Task 1 : matplotlib 라이브러리를 가져와이 노트북에 이미지를 표시하십시오.\n"
   ]
  },
  {
   "cell_type": "code",
   "execution_count": 4,
   "metadata": {
    "scrolled": true
   },
   "outputs": [
    {
     "data": {
      "text/plain": [
       "<Figure size 640x480 with 1 Axes>"
      ]
     },
     "metadata": {},
     "output_type": "display_data"
    }
   ],
   "source": [
    "from matplotlib import pyplot as plt\n",
    "img=cv2.imread(\"images/image001.png\")\n",
    "plt.imshow(cv2.cvtColor(img, cv2.COLOR_BGR2RGB))\n",
    "plt.axis()\n",
    "plt.show()"
   ]
  },
  {
   "cell_type": "markdown",
   "metadata": {},
   "source": [
    "색상이 맞습니까? 그렇지 않은 경우 오른쪽 명령을 사용하여 색상 공간을 변경해야합니다."
   ]
  },
  {
   "cell_type": "markdown",
   "metadata": {},
   "source": [
    "이 단계에서 컴퓨터가 이미지의 내용을 이해한다고 생각하십니까?"
   ]
  },
  {
   "cell_type": "markdown",
   "metadata": {},
   "source": [
    "### 1.1b 사진 대신 웹캠을 사용하는 것이 어떻습니까?\n"
   ]
  },
  {
   "cell_type": "code",
   "execution_count": 5,
   "metadata": {},
   "outputs": [],
   "source": [
    "camera = cv2.VideoCapture(0) #create a VideoCapture object with the 'first' camera (your webcam)\n",
    "\n",
    "while(True):\n",
    "    ret, frame = camera.read()             # Capture frame by frame   \n",
    "    cv2.imshow(' Exit',frame)              # Display the frame\n",
    "    \n",
    "    if cv2.waitKey(1) & 0xFF == ord(' '):  # Stop if spacebar is detected\n",
    "        break\n",
    "\n",
    "camera.release()                           # Cleanup after spacebar is detected.\n",
    "cv2.destroyAllWindows()"
   ]
  },
  {
   "cell_type": "markdown",
   "metadata": {},
   "source": [
    "Congratulations! 여러분의 얼굴을 화면에서 봤나요? 어떻게 생가하나요?"
   ]
  },
  {
   "cell_type": "markdown",
   "metadata": {},
   "source": [
    "### 1.2 우리가 보는 것에 대한 이해하기\n",
    "그래서 우리는 처음 보는 부분을 빨리 달성했습니다. 이제 컴퓨터는 자신이보고있는 것을 이해해야합니다.\n",
    "\n",
    "Numpy를 기억하고 있나요? OpenCV에서 이미지는 Numpy Arrays로 저장됩니다.\n",
    "\n",
    "이러한 배열에는 이미지를 빠르게 분석하는 데 사용할 수있는 메서드가 내장되어 있습니다.\n",
    "예를 들어 .shape는 이미지가 저장된 Numpy 배열의 크기를 알려줍니다. (높이, 너비, 채널)\n",
    "다른 다양한 고급 배열 조작 기술도 있지만 여기서는 간단하게 설명 할 것입니다.\n",
    "\n",
    "기본적으로 Blue, Green 및 Red의 픽셀 강도를 저장하는 3 개의 채널이 있습니다. 이것이 OpenCV에서 사용되는 기본 색 공간입니다.\n",
    "\n",
    "위에 표시된 이미지의 경우 치수 란 무엇입니까? 이미지의 다른 부분에서 어떤 색입니까? 색상 농도는 어떻게 표현됩니까?\n",
    "\n",
    "<img src=\"images/image001.png\" alt=\"Drawing\" style=\"width: 400px; border:1px solid; float:left;\"/>\n",
    "<div style=\"clear: both;\"></div>\n",
    "\n",
    "아래에서 직접 이미지를 이해하십시오!\n"
   ]
  },
  {
   "cell_type": "markdown",
   "metadata": {},
   "source": [
    "#### 이 이미지의 크기는 무엇입니까?"
   ]
  },
  {
   "cell_type": "code",
   "execution_count": 6,
   "metadata": {},
   "outputs": [
    {
     "name": "stdout",
     "output_type": "stream",
     "text": [
      "(600, 800, 3)\n"
     ]
    }
   ],
   "source": [
    "print(img.shape)         #이 이미지의 크기는 무엇입니까?\n",
    "                         #너비 란 무엇인가, 높이는 무엇입니까? 몇 개의 채널이 있습니까?\n",
    "                         #힌트 : 이미지는 Numpy 배열로 (높이, 너비, 채널)"
   ]
  },
  {
   "cell_type": "markdown",
   "metadata": {},
   "source": [
    "#### 이미지의 왼쪽 상단 모서리의 색상은 무엇입니까? "
   ]
  },
  {
   "cell_type": "code",
   "execution_count": 8,
   "metadata": {},
   "outputs": [
    {
     "name": "stdout",
     "output_type": "stream",
     "text": [
      "[255 255 255]\n"
     ]
    }
   ],
   "source": [
    "print(img[300,799])          #이미지의 왼쪽 상단 모서리의 색상은 무엇입니까? 배열 인덱싱은 0부터 시작합니다.\n",
    "                         #힌트 : 채널은 기본적으로 파란색, 녹색, 빨간색으로 표시됩니다."
   ]
  },
  {
   "cell_type": "markdown",
   "metadata": {},
   "source": [
    "### Task 2: 이미지의 오른쪽 상단 모서리의 색상을 확인하십시오.\n",
    "이미지의 오른쪽 상단 모서리의 색상은 무엇입니까?"
   ]
  },
  {
   "cell_type": "code",
   "execution_count": 9,
   "metadata": {},
   "outputs": [
    {
     "name": "stdout",
     "output_type": "stream",
     "text": [
      "[255   0   0]\n"
     ]
    }
   ],
   "source": [
    "print(img[0,799])     \n",
    "                         #Hint : 가장 오른쪽 픽셀은 800이 아니라 799입니다. Numpy 배열 인덱싱은 0부터 시작합니다."
   ]
  },
  {
   "cell_type": "markdown",
   "metadata": {},
   "source": [
    "### Task 3: 이미지 중간의 색상을 찾으십시오.\n",
    "이미지 중간의 색은 무엇입니까?"
   ]
  },
  {
   "cell_type": "code",
   "execution_count": 10,
   "metadata": {},
   "outputs": [
    {
     "name": "stdout",
     "output_type": "stream",
     "text": [
      "[  0   0 255]\n"
     ]
    }
   ],
   "source": [
    "print(img[300,400])      #이미지 중간의 색은 무엇입니까?"
   ]
  },
  {
   "cell_type": "markdown",
   "metadata": {},
   "source": [
    "이 단계에서 이미지에 사각형과 원이 있다는 것을 컴퓨터가 이해한다고 생각합니까?<br>\n",
    "또는 0에서 255 사이의 값을 갖는 픽셀 강도의 행과 행이 있다는 것을 인식하고 있습니까?<br>\n",
    "\n",
    "예, 그런데 픽셀 강도는 0에서 255까지 기본적으로 얼마나 많은 특정 색상이 있는지입니다.<br>\n",
    "0은 강도가 0 (기본적으로 어두움)을 의미하고 255는 해당 색상으로 가득 찬 것을 의미합니다.<br>\n",
    "\n",
    "따라서 (0,0,0)은 검은 색이고 (255,255,255)는 흰색이됩니다. 청색, 녹색 또는 적색을 어떻게 표현합니까?"
   ]
  },
  {
   "cell_type": "markdown",
   "metadata": {},
   "source": [
    "## 2. 이미지 처리\n",
    "\n",
    "우리는 컴퓨터가 이미지를 픽셀 강도의 배열로 보는 것을 발견했습니다. <br /> <br />\n",
    "그리고 그 이미지를 이해하는 것은 컴퓨터 비전 개발자(여러분)의 몫입니다.\n",
    "\n",
    "유용하게 사용할 수있는보다 일반적인 이미지 처리 기법을 살펴 보겠습니다. <br />\n",
    "좀 더 자세한 정보를 얻으려면 마지막에 더 많은 정보를 얻을 수있는 링크가 제공됩니다.\n",
    "\n",
    "오, 그 전에 컴퓨터 비전이 오늘날 어떻게 현실 세계에서 사용되는지에 대한 몇 가지 예를 생각해 볼 수 있습니까? 나중에 수업으로 토론하게되어 생각대로 메모 할 수 있습니다."
   ]
  },
  {
   "cell_type": "markdown",
   "metadata": {},
   "source": [
    "### 2.1 색 공간 / 색 구성\n",
    "\n",
    "우리는 이전에 이미지에 파란색, 녹색 및 빨강 색 공간을 사용했습니다.\n",
    "\n",
    "우리가 모든 색을 필요로 하지 않고 단지 이미지가 얼마나 밝고 어둡다는 것을 알 필요가 있다면 어떨까요? 사진을 그레이 스케일로 변환 할 수 있습니다.\n",
    "\n",
    "Numpy에서 그레이 스케일 이미지가 어떻게 표현되는지 기억하십니까?"
   ]
  },
  {
   "cell_type": "code",
   "execution_count": 11,
   "metadata": {},
   "outputs": [],
   "source": [
    "img = cv2.imread(\"images/image001.png\")\n",
    "grey = cv2.cvtColor(img, cv2.COLOR_BGR2GRAY) #Convert color from BGR to grayscale\n",
    "cv2.imshow(\"Grey\",grey)\n",
    "\n",
    "cv2.waitKey(0)                            # Cleanup after any key is pressed\n",
    "cv2.destroyAllWindows()"
   ]
  },
  {
   "cell_type": "markdown",
   "metadata": {},
   "source": [
    "### Task 4: 이제 노트북에 회색 음영 그림을 보여주십시오.\n",
    "새로운 변수를 사용하십시오 (img가 아님)."
   ]
  },
  {
   "cell_type": "code",
   "execution_count": 12,
   "metadata": {},
   "outputs": [],
   "source": [
    "cv2.imshow(\"Grey\",grey)\n",
    "cv2.waitKey(0)                            # Cleanup after any key is pressed\n",
    "cv2.destroyAllWindows()"
   ]
  },
  {
   "cell_type": "markdown",
   "metadata": {},
   "source": [
    "### Task 5: 그레이 스케일 배열 모양을 표시합니다.\n",
    "어떤 숫자가 보이기를 기대합니까?"
   ]
  },
  {
   "cell_type": "code",
   "execution_count": 13,
   "metadata": {
    "scrolled": true
   },
   "outputs": [
    {
     "data": {
      "text/plain": [
       "(600, 800)"
      ]
     },
     "execution_count": 13,
     "metadata": {},
     "output_type": "execute_result"
    }
   ],
   "source": [
    "grey.shape                      # 이 치수는 이전의 img.shape와 다른가요?"
   ]
  },
  {
   "cell_type": "markdown",
   "metadata": {},
   "source": [
    "모든 것이 회색조로 바뀌면서 이미지 저장에 사용되는 메모리가 줄어 드나요? <br />\n",
    "이 이미지 처리가 원래 배열의 1/3 크기 때문에 잠재적으로 더 빠를까요?"
   ]
  },
  {
   "cell_type": "markdown",
   "metadata": {},
   "source": [
    "### Task 6: 이미지의 왼쪽 상단 모서리의 색상을 확인하십시오.\n",
    "이미지의 왼쪽 상단 모서리의 색상은 무엇입니까?"
   ]
  },
  {
   "cell_type": "code",
   "execution_count": 14,
   "metadata": {},
   "outputs": [
    {
     "data": {
      "text/plain": [
       "150"
      ]
     },
     "execution_count": 14,
     "metadata": {},
     "output_type": "execute_result"
    }
   ],
   "source": [
    "grey[0,0]      # 이미지의 왼쪽 상단 모서리의 색상은 무엇입니까? 배열 인덱싱은 0부터 시작합니다.\n",
    "                          # 위의 이전 결과와 비교하면 어떻습니까?"
   ]
  },
  {
   "cell_type": "markdown",
   "metadata": {},
   "source": [
    "### Task 7: 이미지의 오른쪽 상단 모서리의 색상을 확인하십시오.\n",
    "이미지의 오른쪽 상단 모서리의 색상은 무엇입니까?"
   ]
  },
  {
   "cell_type": "code",
   "execution_count": 15,
   "metadata": {},
   "outputs": [
    {
     "data": {
      "text/plain": [
       "76"
      ]
     },
     "execution_count": 15,
     "metadata": {},
     "output_type": "execute_result"
    }
   ],
   "source": [
    "grey[300,400]        # 이미지의 오른쪽 상단 모서리의 색상은 무엇입니까?\n",
    "                          # 위의 결과와 비교하면 어떻습니까?"
   ]
  },
  {
   "cell_type": "markdown",
   "metadata": {},
   "source": [
    "재미있는 사실 : 그레이 스케일로 변환 할 때 일부 색상이 실제로 다른 색상보다 어둡게 보입니까?\n",
    "다양한 색상 공간에 대한 자세한 내용은 https://docs.opencv.org/4.0.0/de/d25/imgproc_color_conversions.html에서 확인할 수 있습니다.\n",
    "\n",
    "우리는 다른 색 공간에 너무 깊이 들어가지 않을 것이지만, 관심이 있다면 위의 링크를 읽으십시오. 더 궁금한 사항이 있으면 인터넷을 통해 도움을받을 수 있습니다."
   ]
  },
  {
   "cell_type": "markdown",
   "metadata": {},
   "source": [
    "### 2.2 임계 값(Thresholding), 마스킹(Masking) 및 관심 영역(Region of Interest)\n",
    "이전에 우리는 어떤 색이 다른 색보다 얼마나 어둡다는 것을 보았습니다. 우리가 매우 어둡거나 가벼운 그림의 일부에만 관심이 있다면 어떨까요? 화면의 오른쪽 상단에있는 사각형 만 필터링 할 수 있습니까?\n",
    "\n",
    "** 기술 1 : 그레이 스케일 강도 **"
   ]
  },
  {
   "cell_type": "code",
   "execution_count": 16,
   "metadata": {},
   "outputs": [],
   "source": [
    "# 우측 상단의 사각형의 픽셀 강도는 29였습니다.\n",
    "# 이제는 29보다 큰 값을 가진 모든 것이 255 (흰색)가됩니다.\n",
    "# 이것은 임계 값 29를 설정하고 있음을 의미합니다.\n",
    "\n",
    "ret,thresholded = cv2.threshold(grey,77,255,cv2.THRESH_BINARY)  \n",
    "cv2.imshow(\"Thresholded\",thresholded)\n",
    "\n",
    "cv2.waitKey(0)                            # Cleanup after any key is pressed\n",
    "cv2.destroyAllWindows()"
   ]
  },
  {
   "cell_type": "markdown",
   "metadata": {},
   "source": [
    "우리가 원하는 사각형은 검은 색으로 보이고 이미지의 다른 부분은 흰색으로 보입니다. 이제 이 프로세스를 위해 이 영역에 집중할 수 있습니다.\n",
    "\n",
    "우리가 집중하고자하는 영역은 대개 관심 영역 (ROI)\n",
    "\n",
    "### Task 8: 오른쪽 텍스트, 원과 가운데와 상자를 캡쳐 (검정색으로 표시)하려면 어떻게해야합니까?"
   ]
  },
  {
   "cell_type": "code",
   "execution_count": 17,
   "metadata": {},
   "outputs": [],
   "source": [
    "ret,thresholded = cv2.threshold(grey,149,255,cv2.THRESH_BINARY)  \n",
    "cv2.imshow(\"Thresholded\",thresholded)\n",
    "\n",
    "cv2.waitKey(0)                            # Cleanup after any key is pressed\n",
    "cv2.destroyAllWindows()"
   ]
  },
  {
   "cell_type": "markdown",
   "metadata": {},
   "source": [
    "임계 값 29로 작업을 계속합시다.<br>\n",
    "일반적으로 관심 영역 (Region Of Interest, ROI)은 흰색으로, 다른 영역은 검은 색으로 나타 내기를 원합니다. 해볼까요 :"
   ]
  },
  {
   "cell_type": "code",
   "execution_count": 18,
   "metadata": {},
   "outputs": [],
   "source": [
    "ret,thresholded = cv2.threshold(grey,29,255,cv2.THRESH_BINARY_INV)    #we use cv2.THRESH_BINARY_INV instead of cv2.THRESH_BINARY\n",
    "cv2.imshow(\"Thresholded\",thresholded)\n",
    "\n",
    "cv2.waitKey(0)                            # Cleanup after any key is pressed\n",
    "cv2.destroyAllWindows()"
   ]
  },
  {
   "cell_type": "markdown",
   "metadata": {},
   "source": [
    "### Task 9: 오른쪽의 텍스트, 원과 가운데 및 상자를 ROI (흰색으로 표시)로하려면 어떻게해야합니까?"
   ]
  },
  {
   "cell_type": "code",
   "execution_count": 19,
   "metadata": {},
   "outputs": [],
   "source": [
    "ret,thresholded = cv2.threshold(grey,149,255,cv2.THRESH_BINARY_INV)    #we use cv2.THRESH_BINARY_INV instead of cv2.THRESH_BINARY\n",
    "cv2.imshow(\"Thresholded\",thresholded)\n",
    "\n",
    "cv2.waitKey(0)                            # Cleanup after any key is pressed\n",
    "cv2.destroyAllWindows()"
   ]
  },
  {
   "cell_type": "markdown",
   "metadata": {},
   "source": [
    "이것의 사용은 무엇입니까?\n",
    "\n",
    "Region of Interest (ROI)를 thresholding하면 원래의 이미지를 표시하기위한 마스크로 사용할 수 있습니다.\n",
    "\n",
    "### Mask?\n",
    "**하지만 마스크는 무엇입니까? **\n",
    "\n",
    "아래 그림을 보겠습니다:\n",
    "\n",
    "<img src=\"images/image001_masking.jpg\" />\n",
    "\n",
    "위의 이미지 (가운데)에서 오른쪽 상단 구석의 파란색 사각형에 대한 마스크를 볼 수 있습니다. 원래 이미지 (왼쪽 이미지)에 해당 마스크 (중간 이미지)를 적용하면 마스크 된 이미지에 파란색 사각형 만 남게됩니다 (오른쪽 이미지).\n",
    "\n",
    "마스크 레이어는 관심있는 이미지 부분을 강조 표시하는 데 도움이됩니다. 마스크가 이미지에 적용되면 관심이있는 부분 (마스크의 흰색 부분) 만 유지되고 나머지 부분 (검은 부분 영역)은 버려집니다.\n",
    "\n",
    "재미있는 사실 : \"클리핑 마스크(clipping masks)\"를 적용 할 수있는 Adobe Photoshop과 같은 인기있는 이미지 편집 소프트웨어에서이 개념을 볼 수 있습니다."
   ]
  },
  {
   "cell_type": "code",
   "execution_count": 20,
   "metadata": {},
   "outputs": [],
   "source": [
    "ret,thresholded = cv2.threshold(grey,29,255,cv2.THRESH_BINARY_INV)  \n",
    "\n",
    "masked = cv2.bitwise_and(img, img, mask = thresholded) \n",
    "cv2.imshow(\"Masked\", masked)\n",
    "\n",
    "cv2.waitKey(0)                            # Cleanup after any key is pressed\n",
    "cv2.destroyAllWindows()"
   ]
  },
  {
   "cell_type": "markdown",
   "metadata": {},
   "source": [
    "Great! 파란색 사각형을 필터링 할 수 있었습니까?\n",
    "\n",
    "자, 실험 해보고 다른 것을보고 싶습니다. 중간에 서클을 경계 할 수 있습니까? 그레이 스케일 레이어에서 어떻게 할 것입니까?\n",
    "\n",
    "아마도 그레이 레이어가 가장 좋은 레이어가 아닙니다. 원본 이미지가 있다는 것을 기억하십시오.\n",
    "\n",
    "<img src=\"images/image001.png\" alt=\"Drawing\" style=\"width: 400px; border:1px solid; float:left;\"/>\n",
    "<div style=\"clear: both;\"></div>"
   ]
  },
  {
   "cell_type": "markdown",
   "metadata": {},
   "source": [
    "**Technique 2: 색상.**<br />\n",
    "이미지는 Numpy 배열이라는 것을 기억하십니까? Numpy 배열은 고급 필터를 사용하여 쉽게 필터링 할 수 있습니다.\n",
    "\n",
    "우리의 삶을 편하게하기 위해 배경의 흰색을 검은 색으로 바꿀 수도 있습니다."
   ]
  },
  {
   "cell_type": "code",
   "execution_count": 21,
   "metadata": {},
   "outputs": [],
   "source": [
    "mask = img.copy()                         # 우리가 만들려는 Mask 이미지. 초기 이미지의 사본으로 초기화하십시오.\n",
    "(b,g,r) = cv2.split(img)                  # BGR 이미지를 단일 평면으로 분할하여 채널을 개별적으로 작업 할 수 있습니다.\n",
    "mask[(b==255)&(g==255)&(r==255)] = 0      # 흰색 배경 (BGR 채널이 모두 255 일 때)에서 0 (검정색)으로 변경하십시오.\n",
    "\n",
    "cv2.imshow(\"Mask\",mask)\n",
    "\n",
    "cv2.waitKey(0)                            # Cleanup after any key is pressed\n",
    "cv2.destroyAllWindows()"
   ]
  },
  {
   "cell_type": "markdown",
   "metadata": {},
   "source": [
    "\n",
    "마스크의 여러 레이어가 어떻게 보이는지 살펴 봅니다. 그것들은 각각 레이어 0, 1 및 2입니다."
   ]
  },
  {
   "cell_type": "code",
   "execution_count": 22,
   "metadata": {},
   "outputs": [],
   "source": [
    "cv2.imshow(\"Blue Mask\",mask[:,:,0])       # Notice how the words are blue also\n",
    "cv2.waitKey(0)                            # Cleanup after any key is pressed\n",
    "cv2.destroyAllWindows()"
   ]
  },
  {
   "cell_type": "code",
   "execution_count": 23,
   "metadata": {},
   "outputs": [],
   "source": [
    "cv2.imshow(\"Green Mask\",mask[:,:,1])\n",
    "cv2.waitKey(0)                            # Cleanup after any key is pressed\n",
    "cv2.destroyAllWindows()"
   ]
  },
  {
   "cell_type": "code",
   "execution_count": 24,
   "metadata": {},
   "outputs": [],
   "source": [
    "cv2.imshow(\"Red Mask\",mask[:,:,2])\n",
    "cv2.waitKey(0)                            # Cleanup after any key is pressed\n",
    "cv2.destroyAllWindows()"
   ]
  },
  {
   "cell_type": "markdown",
   "metadata": {},
   "source": [
    "**Technique 3: 위치 기반의 신속한 배열 조작 **\n",
    "\n",
    "이 초록색 배열에는 단어 주위에 일부 인공물이 있습니다. 우리가 청소할 수 있을까요?"
   ]
  },
  {
   "cell_type": "code",
   "execution_count": 25,
   "metadata": {},
   "outputs": [],
   "source": [
    "mask[300:,:,1]=0                          # 이미지는 행렬임을 기억하십시오. 아래쪽 절반을 검은 색으로 닦아 봅시다 (0)\n",
    "cv2.imshow(\"Green Mask\",mask[:,:,1])\n",
    "cv2.waitKey(0)                            # Cleanup after any key is pressed\n",
    "cv2.destroyAllWindows()"
   ]
  },
  {
   "cell_type": "markdown",
   "metadata": {},
   "source": [
    "이미지의 크기를 기억하지 못하면 어떤 명령을 사용하여 찾을 수 있습니까?"
   ]
  },
  {
   "cell_type": "code",
   "execution_count": 26,
   "metadata": {},
   "outputs": [
    {
     "data": {
      "text/plain": [
       "(600, 800, 3)"
      ]
     },
     "execution_count": 26,
     "metadata": {},
     "output_type": "execute_result"
    }
   ],
   "source": [
    "mask.shape"
   ]
  },
  {
   "cell_type": "markdown",
   "metadata": {},
   "source": [
    "이제 빨간색 레이어의 단어 주위에 유물이 있는지 살펴 보겠습니다."
   ]
  },
  {
   "cell_type": "code",
   "execution_count": 27,
   "metadata": {},
   "outputs": [],
   "source": [
    "cv2.imshow(\"Red Mask\",mask[:,:,2])\n",
    "cv2.waitKey(0)                            # Cleanup after any key is pressed\n",
    "cv2.destroyAllWindows()"
   ]
  },
  {
   "cell_type": "markdown",
   "metadata": {},
   "source": [
    "이 빨간 레이어의 단어 주위에 일부 인공물이 있습니다. 우리가 청소할 수 있을까요?\n",
    "\n",
    "### Task 10 :이 빨간색 레이어의 단어 주위에 인공물을 정리합니다."
   ]
  },
  {
   "cell_type": "code",
   "execution_count": 28,
   "metadata": {},
   "outputs": [],
   "source": [
    "#your code here\n",
    "cv2.waitKey(0)                            # Cleanup after any key is pressed\n",
    "cv2.destroyAllWindows()"
   ]
  },
  {
   "cell_type": "markdown",
   "metadata": {},
   "source": [
    "이제 우리는 단순히 색상을 기반으로 객체를 얻을 수 있습니다."
   ]
  },
  {
   "cell_type": "code",
   "execution_count": 29,
   "metadata": {},
   "outputs": [],
   "source": [
    "#layer 2 is the red layer. Rememeber (B,G,R)\n",
    "masked = cv2.bitwise_and(img,img,mask=mask[:,:,2])\n",
    "cv2.imshow(\"Circle\",masked)                   \n",
    "\n",
    "cv2.waitKey(0)                            # Cleanup after any key is pressed\n",
    "cv2.destroyAllWindows()"
   ]
  },
  {
   "cell_type": "code",
   "execution_count": 30,
   "metadata": {},
   "outputs": [],
   "source": [
    "#layer 1 is the green layer. Rememeber (B,G,R)\n",
    "masked = cv2.bitwise_and(img,img,mask=mask[:,:,1])\n",
    "cv2.imshow(\"Left Green Rectangle\",masked)\n",
    "cv2.waitKey(0)                            # Cleanup after any key is pressed\n",
    "cv2.destroyAllWindows()"
   ]
  },
  {
   "cell_type": "code",
   "execution_count": 31,
   "metadata": {},
   "outputs": [],
   "source": [
    "#layer 0 is the blue layer. Rememeber (B,G,R)\n",
    "masked = cv2.bitwise_and(img,img,mask=mask[:,:,0])\n",
    "cv2.imshow(\"Right Blue Rectangle\",masked)\n",
    "cv2.waitKey(0)                            # Cleanup after any key is pressed\n",
    "cv2.destroyAllWindows()"
   ]
  },
  {
   "cell_type": "markdown",
   "metadata": {},
   "source": [
    "단어가 사각형뿐 아니라 다른 단어에도 나타나는지 확인하십시오. 단어가 _blue이기도합니다! _\n",
    "\n",
    "단어를 표시하지 않으려면 단어를 \"지울\"수 있습니다.\n",
    "\n",
    "### Task 11 : 단어를 지워보세요!"
   ]
  },
  {
   "cell_type": "code",
   "execution_count": 32,
   "metadata": {},
   "outputs": [],
   "source": [
    "#your code here\n",
    "cv2.waitKey(0)                            # Cleanup after any key is pressed\n",
    "cv2.destroyAllWindows()"
   ]
  },
  {
   "cell_type": "markdown",
   "metadata": {},
   "source": [
    "우리는 마스킹, thresholding 및 관심 영역에 꽤 많은 시간을 보냈습니다. 색상이나 픽셀 강도에 관계없이 또는 Numpy Array를 조작하여 (예 : 이미지의 일부에 액세스하고 수정할 때) 사용할 수있는 다양한 접근 방식이 있습니다. 이 기술을 연습하고 다른 이미지에서 시도해보십시오.\n",
    "\n",
    "컴퓨터 비전과 삶에서 동일한 목표에 도달 할 수있는 방법은 여러 가지가 있습니다. 관심 지역을 확보하는보다 효율적인 방법에 대해 생각해 볼 수 있습니까?"
   ]
  },
  {
   "cell_type": "markdown",
   "metadata": {},
   "source": [
    "### 2.3 기하학적 변환. 크기 조정 및 자르기\n",
    "\n",
    "계속 진행하면 이미지가 너무 크거나 작을 수 있습니다. 어떻게 크기를 조정할 수 있습니까??\n",
    "\n",
    "### Task 12: 800x600 이미지를 400x300 이미지로 만들기"
   ]
  },
  {
   "cell_type": "code",
   "execution_count": 33,
   "metadata": {},
   "outputs": [],
   "source": [
    "#your code here\n",
    "cv2.waitKey(0)                            # Cleanup after any key is pressed\n",
    "cv2.destroyAllWindows()"
   ]
  },
  {
   "cell_type": "markdown",
   "metadata": {},
   "source": [
    "지금 모양은 무엇입니까?"
   ]
  },
  {
   "cell_type": "code",
   "execution_count": 34,
   "metadata": {},
   "outputs": [],
   "source": [
    "#your code here\n"
   ]
  },
  {
   "cell_type": "markdown",
   "metadata": {},
   "source": [
    "다른 종횡비를 사용하는 경우 크기 조정 기능을 사용하여 이미지를 늘릴 수도 있습니다.\n",
    "\n",
    "### Task 13: 800x600 이미지를 200x300 이미지로 늘입니다."
   ]
  },
  {
   "cell_type": "code",
   "execution_count": 35,
   "metadata": {},
   "outputs": [],
   "source": [
    "#your code here\n",
    "cv2.waitKey(0)                            # Cleanup after any key is pressed\n",
    "cv2.destroyAllWindows()"
   ]
  },
  {
   "cell_type": "markdown",
   "metadata": {},
   "source": [
    "### 자르기\n",
    "\n",
    "### Task 14: 이미지의 위쪽 절반을 자르기 위해 자르기 :"
   ]
  },
  {
   "cell_type": "code",
   "execution_count": 36,
   "metadata": {},
   "outputs": [],
   "source": [
    "#your code here\n",
    "cv2.waitKey(0)                            # Cleanup after any key is pressed\n",
    "cv2.destroyAllWindows()"
   ]
  },
  {
   "cell_type": "markdown",
   "metadata": {},
   "source": [
    "### Task 15: 잘라내어 이미지의 오른쪽을 가져옵니다."
   ]
  },
  {
   "cell_type": "code",
   "execution_count": 37,
   "metadata": {},
   "outputs": [],
   "source": [
    "#your code here\n",
    "cv2.waitKey(0)                            # Cleanup after any key is pressed\n",
    "cv2.destroyAllWindows()"
   ]
  },
  {
   "cell_type": "markdown",
   "metadata": {},
   "source": [
    "당신은 그걸 가지고 놀 수 있습니다. 관심 지역으로 잘라내는 것이 더 유용 할 것입니다. ROI (Region of Interest)를 추출하는 또 다른 매우 유용한 방법으로 이동해 봅시다."
   ]
  },
  {
   "cell_type": "markdown",
   "metadata": {},
   "source": [
    "### 2.4 윤곽 검출\n",
    "\n",
    "일반적으로 임계 값 마스크를 사용하여 관심 영역을 검색하는 데 일반적으로 사용됩니다.\n",
    "\n",
    "** 그러나 윤곽은 무엇입니까? **\n",
    "\n",
    "등고선은 [경계를 따라 그려진 곡선]으로 생각할 수 있습니다 (https://docs.opencv.org/3.4/d4/d73/tutorial_py_contours_begin.html).\n",
    "\n",
    "이를 단순화하기 위해 모든 흑백 마스크를 생각해보십시오. 경계가있을 것이며, 색상이 급격하게 변할 것입니다. 윤곽선은 이 경계를 따라 그린 곡선입니다.\n",
    "\n",
    "윤곽 검출은 기본적으로 이러한 다른 그룹을 찾아 윤곽으로 반환합니다.\n",
    "\n",
    "예를 들어 아래 이미지에 몇 개의 흰색 영역이 있다고 생각합니까?\n",
    "\n",
    "<img src=\"images/image001_3contours.png\" style=\"width:400px; float:left;\" />\n",
    "<div style=\"clear: both;\"></div>\n",
    "\n",
    "3 개의 윤곽선이 있다고 추측 했습니까? 이미지를로드하고 윤곽선을 그려 봅시다."
   ]
  },
  {
   "cell_type": "code",
   "execution_count": 38,
   "metadata": {},
   "outputs": [
    {
     "name": "stdout",
     "output_type": "stream",
     "text": [
      "There are 3 contours!\n"
     ]
    }
   ],
   "source": [
    "greytest = cv2.imread(\"images/image001_3contours.png\",0)    # Load that image\n",
    "contouroutlines = np.zeros(greytest.shape,dtype=\"uint8\")    # Create a blank canvas for drawing detected contours\n",
    "\n",
    "# Let's find the contours! https://docs.opencv.org/3.4/d3/dc0/group__imgproc__shape.html#ga17ed9f5d79ae97bd4c7cf18403e1689a\n",
    "(cnts, _) = cv2.findContours(greytest, cv2.RETR_EXTERNAL, cv2.CHAIN_APPROX_SIMPLE)\n",
    "\n",
    "for (i, c) in enumerate(cnts):    \n",
    "    cv2.drawContours(contouroutlines, [c], -1, 255, 1)  # For each contour, draw just the outline of the contours\n",
    "                                                        # https://docs.opencv.org/3.4/d6/d6e/group__imgproc__draw.html#ga746c0625f1781f1ffc9056259103edbc\n",
    "cv2.imshow(\"Contour Outlines\",contouroutlines)          # Display the results\n",
    "cv2.waitKey(0)                                          # Cleanup after any key is pressed\n",
    "cv2.destroyAllWindows()\n",
    "\n",
    "print(\"There are \"+str(len(cnts))+\" contours!\")         # Print out the number of contours detected"
   ]
  },
  {
   "cell_type": "markdown",
   "metadata": {},
   "source": [
    "단지 3 개의 윤곽선이있는 간단한 예입니다.\n",
    "\n",
    "임계치가 적용된 원본 이미지에서 몇 개의 윤곽선을 찾으십니까?\n",
    "\n",
    "<img src=\"images/image001_allcontours.png\" style=\"width:400px; float:left;\" />\n",
    "<div style=\"clear:both;\"></div>\n"
   ]
  },
  {
   "cell_type": "markdown",
   "metadata": {},
   "source": [
    "먼저 임계 값 방법을 사용하여 이미지를 만듭니다."
   ]
  },
  {
   "cell_type": "code",
   "execution_count": 39,
   "metadata": {},
   "outputs": [],
   "source": [
    "grey = cv2.cvtColor(img, cv2.COLOR_BGR2GRAY)\n",
    "\n",
    "#We apply a threshold\n",
    "(T, thresholded) = cv2.threshold(grey, 0, 255, cv2.THRESH_BINARY_INV | cv2.THRESH_OTSU)\n",
    "cv2.imshow(\"Thresholded\",thresholded)\n",
    "\n",
    "cv2.waitKey(0)                            # Cleanup after any key is pressed\n",
    "cv2.destroyAllWindows()"
   ]
  },
  {
   "cell_type": "markdown",
   "metadata": {},
   "source": [
    "이제 우리는 윤곽을 찾을 것입니다. 얼마나 될 것이라고 생각하십니까? 신중하게 그림을 봐!"
   ]
  },
  {
   "cell_type": "code",
   "execution_count": 40,
   "metadata": {},
   "outputs": [
    {
     "name": "stdout",
     "output_type": "stream",
     "text": [
      "There are 78 contours!\n"
     ]
    }
   ],
   "source": [
    "# Let's find the contours!\n",
    "(cnts,_) = cv2.findContours(thresholded, cv2.RETR_EXTERNAL, cv2.CHAIN_APPROX_SIMPLE)\n",
    "\n",
    "mask = np.zeros(img.shape,dtype=\"uint8\")  # Create a canvas for drawing detected contours\n",
    "for (i, c) in enumerate(cnts):    \n",
    "    cv2.drawContours(mask, [c], -1, (0,0,255), 1) \n",
    "    \n",
    "cv2.imshow(\"Mask\",mask)  \n",
    "cv2.waitKey(0)                            # Cleanup after any key is pressed\n",
    "cv2.destroyAllWindows()\n",
    "\n",
    "\n",
    "print(\"There are \"+str(len(cnts))+\" contours!\")"
   ]
  },
  {
   "cell_type": "markdown",
   "metadata": {},
   "source": [
    "78 개의 윤곽선이 있는 이유는 무엇입니까? 그 이유는 텍스트 줄 때문입니다.\n",
    "\n",
    "실제 계산 대상을 시각화하기 위해 등고선에 라벨을 지정해 보겠습니다.\n",
    "\n",
    "아래에서 각 문자가 1 등고선을 형성하는 경향을 볼 수 있습니다. 그러나 \"i\"와 같은 일부 문자는 실제로 \"i\"의 상단과 \"i\"의 하단이 연결되어 있지 않으므로 실제로 2 개의 윤곽선으로 계산됩니다. 느낌표와 비슷합니다.\n",
    "\n",
    "아래 코드는 주석에 코드가 추가 되었기 때문에 약간 길게 보입니다. 아래 섹션 2.5를 방문하면 코드를 더 잘 이해할 수 있습니다. 그동안 코드에 대해 걱정하지 마십시오. 코드를 실행하고 윤곽선이 계산되는 방법을 확인하십시오. 각 \"윤곽선\"주위에 그려진 빨간색 경계 상자를 기록하십시오."
   ]
  },
  {
   "cell_type": "code",
   "execution_count": 41,
   "metadata": {},
   "outputs": [
    {
     "name": "stdout",
     "output_type": "stream",
     "text": [
      "There are 78 contours!\n"
     ]
    }
   ],
   "source": [
    "grey = cv2.cvtColor(img, cv2.COLOR_BGR2GRAY)\n",
    "\n",
    "#We apply a threshold\n",
    "(T, thresholded) = cv2.threshold(grey, 0, 255, cv2.THRESH_BINARY_INV | cv2.THRESH_OTSU)\n",
    "cv2.imshow(\"Thresholded\",thresholded)\n",
    "\n",
    "# Let's find the contours!\n",
    "(cnts,_) = cv2.findContours(thresholded, cv2.RETR_EXTERNAL, cv2.CHAIN_APPROX_SIMPLE)\n",
    "cnts = sorted(cnts, key=lambda cnts: cv2.boundingRect(cnts)[1])  #sort contours from top to bottom.\n",
    "\n",
    "mask = cv2.merge([thresholded,thresholded,thresholded])  # Create a canvas for drawing detected contours\n",
    "for (i, c) in enumerate(cnts):   #https://docs.opencv.org/3.1.0/dd/d49/tutorial_py_contour_features.html  \n",
    "    #cv2.drawContours(mask, [c], -1, (255,255,255), -1) \n",
    "    (x, y, w, h) = cv2.boundingRect(c)                   # Get the x,y coordinates of the contour's bounding box \n",
    "    cv2.rectangle(mask, (x,y), (x+w,y+h), (0,0,255))     # Draw the bounding boxes in red\n",
    "\n",
    "    cv2.putText(mask, \"\"+str(i+1), (x,y+28), cv2.FONT_HERSHEY_SIMPLEX, 0.25, (0,255,0), 1)\n",
    "    \n",
    "cv2.imshow(\"Mask\",mask)  \n",
    "cv2.waitKey(0)                            # Cleanup after any key is pressed\n",
    "cv2.destroyAllWindows()\n",
    "\n",
    "\n",
    "print(\"There are \"+str(len(cnts))+\" contours!\")"
   ]
  },
  {
   "cell_type": "markdown",
   "metadata": {},
   "source": [
    "윤곽에 대해 더 알고 싶으십니까? 자세한 내용은 https://docs.opencv.org/3.3.1/d4/d73/tutorial_py_contours_begin.html을 참조하십시오. 항상 그렇듯이 인터넷에서 계속 검색을 수행하십시오. 거기에 많은 정보가 있기 때문에 더 깊이 들어가면 매우 유용 할 것입니다!\n",
    "\n",
    "팁 : 위의 예제에서, 우리는 외부 윤곽을 얻기 위해 cv2.RETR_EXTERNAL을 사용했습니다. 또한 다른 유형의 윤곽을 얻기 위해 지정할 수있는 다른 옵션이 있습니다. 예를 들어, cv2.RETR_LIST는 외부 윤곽뿐만 아니라 모든 윤곽을 나열합니다."
   ]
  },
  {
   "cell_type": "markdown",
   "metadata": {},
   "source": [
    "**Contours를 이미지 마스크로 사용**\n",
    "\n",
    "이전에 이미지 마스크에 대해 이야기했던 것을 기억하십니까? 윤곽선을 사용하여 마스크를 만들 수도 있습니다!\n",
    "\n",
    "drawContour 함수의 마지막 매개 변수를 -1로 설정하여 외곽선 대신 채우기를 만들고이를 마스크로 사용하십시오!"
   ]
  },
  {
   "cell_type": "code",
   "execution_count": 42,
   "metadata": {},
   "outputs": [
    {
     "name": "stdout",
     "output_type": "stream",
     "text": [
      "There are 3 contours!\n"
     ]
    }
   ],
   "source": [
    "(T, thresholded) = cv2.threshold(grey, 0, 255, cv2.THRESH_BINARY_INV | cv2.THRESH_OTSU)\n",
    "thresholded[410:,:]=0                     # Shortcut to remove the text since it is on the bottom half of the image!\n",
    "#cv2.imshow(\"Thresholded\",thresholded)\n",
    "\n",
    "#How many contours do you think there are?\n",
    "(cnts,_) = cv2.findContours(thresholded, cv2.RETR_EXTERNAL, cv2.CHAIN_APPROX_SIMPLE)\n",
    "\n",
    "mask = np.zeros(thresholded.shape,dtype=\"uint8\")\n",
    "for (i, c) in enumerate(cnts):    \n",
    "    cv2.drawContours(mask, [c], -1, 255, -1)  #the last parameter defines the outline thickness. -1 will fill the contour\n",
    "    \n",
    "cv2.imshow(\"Mask\",mask)\n",
    "cv2.imshow(\"Masked Image\",cv2.bitwise_and(img,img,mask=mask))  \n",
    "cv2.waitKey(0)                            # Cleanup after any key is pressed\n",
    "cv2.destroyAllWindows()\n",
    "\n",
    "\n",
    "print(\"There are \"+str(len(cnts))+\" contours!\")"
   ]
  },
  {
   "cell_type": "markdown",
   "metadata": {},
   "source": [
    "각 색상을 수동으로 thresholding하는 것보다 쉽게 찾았습니까?"
   ]
  },
  {
   "cell_type": "markdown",
   "metadata": {},
   "source": [
    "### 2.5 그림 그리기 및 텍스트 쓰기\n",
    "\n",
    "실제로 위의 컨투어 연습에서 drawContour라는 메서드를 사용하여이 작업을 수행했습니다. 이미지에 주석을 달기를 원할 수도 있으므로 이미지에 선과 단어를 추가하는 방법을 살펴 보겠습니다. 2.4에서 예제를 다시 살펴보고 윤곽선에 레이블을 추가하십시오!\n",
    "\n",
    "변경된 세 줄만 아래에 설명되어 있습니다. 다른 코드 행은 2.4의 예와 유사하며이 예제를 참조하여 해당 행이하는 일을 요약 할 수 있습니다.\n",
    "\n",
    "먼저 각 윤곽선에 대한 경계 상자를 가져 와서 그 주위에 직사각형을 그려 텍스트를 추가하여 각 윤곽선에 레이블을 지정합니다."
   ]
  },
  {
   "cell_type": "code",
   "execution_count": 43,
   "metadata": {},
   "outputs": [
    {
     "name": "stdout",
     "output_type": "stream",
     "text": [
      "There are 3 contours!\n"
     ]
    }
   ],
   "source": [
    "greytest = cv2.imread(\"images/image001_3contours.png\",0)\n",
    "contouroutlines = np.zeros(greytest.shape,dtype=\"uint8\")\n",
    "\n",
    "(cnts,_) = cv2.findContours(greytest, cv2.RETR_EXTERNAL, cv2.CHAIN_APPROX_SIMPLE)\n",
    "\n",
    "for (i, c) in enumerate(cnts):    \n",
    "    cv2.drawContours(contouroutlines, [c], -1, 255, 1)\n",
    "\n",
    "    # GET BOUNDING BOX OF EACH CONTOUR\n",
    "    (x, y, w, h) = cv2.boundingRect(c)\n",
    "    \n",
    "    # DRAW A RECTANGLE AROUND EACH CONTOUR (I.E. DRAW THE BOUNDING BOX)\n",
    "    cv2.rectangle(contouroutlines, (x, y), (x+w, y+h), (255,255,0), 2) \n",
    "    \n",
    "    # ADD THE TEXT \"COUNTOUR <>\" TO EACH CONTOUR\n",
    "    cv2.putText(contouroutlines, \"Contour \"+str(i+1), (x,y-10), cv2.FONT_HERSHEY_SIMPLEX, 0.5, (255, 255, 0), 2)\n",
    "\n",
    "    \n",
    "cv2.imshow(\"Contour Outlines\",contouroutlines)          \n",
    "cv2.waitKey(0)                                          \n",
    "cv2.destroyAllWindows()\n",
    "\n",
    "print(\"There are \"+str(len(cnts))+\" contours!\")         "
   ]
  },
  {
   "cell_type": "markdown",
   "metadata": {},
   "source": [
    "화면에 텍스트를 쓰고 직사각형과 원과 같은 도형을 그리는 방법에 대한 자세한 내용은 https://docs.opencv.org/4.0.0/dc/da5/tutorial_py_drawing_functions.html을 참조하십시오.\n",
    "\n",
    "나중에 개체 검색을 위한 응용 프로그램을 만드는 경우이 메서드를 사용하여 실제로 검색 한 것에 주석을 달 수 있습니다. 또는 코드를 사용하여 자신 만의 작품과 이미지를 만들 수도 있습니다.\n",
    "\n",
    "처음부터 무언가를 그리려고 하자.\n",
    "\n",
    "\n",
    "**접근 불가(ACCESS DENIED)**"
   ]
  },
  {
   "cell_type": "code",
   "execution_count": 44,
   "metadata": {},
   "outputs": [],
   "source": [
    "# Create an empty canvas (height,width,channels) - In this case: 3 colour channels, width 400, and height 300 \n",
    "canvas_accessdenied = np.zeros((600,800,3),dtype=\"uint8\")      \n",
    "\n",
    "# Add a Hollow Rectangle at (x=100,y=230) with the colour (255,255,0), and line thickness 2 \n",
    "cv2.rectangle(canvas_accessdenied, (100, 230), (700, 370), (255,255,0), 2)  \n",
    "\n",
    "# Add your Text at (x=150,y=320) the colour (100,100,255), fint size 2, and line thickness 5 \n",
    "cv2.putText(canvas_accessdenied, \"ACCESS DENIED\", (150,320), cv2.FONT_HERSHEY_SIMPLEX, 2, (100,100,255), 5)\n",
    "\n",
    "cv2.imshow(\"Canvas Access Denied\",canvas_accessdenied)  \n",
    "cv2.waitKey(0)                            # Cleanup after any key is pressed\n",
    "cv2.destroyAllWindows()"
   ]
  },
  {
   "cell_type": "markdown",
   "metadata": {},
   "source": [
    "Access Granted를 사용하면 어떨까요? <br>\n",
    "**접근 허가(ACCESS GRANTED)**"
   ]
  },
  {
   "cell_type": "code",
   "execution_count": 45,
   "metadata": {},
   "outputs": [],
   "source": [
    "# Create an empty canvas (height,width,channels) - In this case: 3 colour channels, width 400, and height 300 \n",
    "canvas_accessgranted = np.zeros((600,800,3),dtype=\"uint8\")      \n",
    "\n",
    "# Add a Hollow Rectangle at (x=100,y=230) with the colour (255,255,0), and line thickness 2 \n",
    "cv2.rectangle(canvas_accessgranted, (100, 230), (700, 370), (255,255,0), 2)  \n",
    "\n",
    "# Add your Text at (x=130,y=320) the colour (255,100,100), fint size 2, and line thickness 5 \n",
    "cv2.putText(canvas_accessgranted, \"ACCESS GRANTED\", (130,320), cv2.FONT_HERSHEY_SIMPLEX, 2, (255,100,100), 5)\n",
    "\n",
    "cv2.imshow(\"Canvas Access Granted\",canvas_accessgranted)  \n",
    "cv2.waitKey(0)                            # Cleanup after any key is pressed\n",
    "cv2.destroyAllWindows()"
   ]
  },
  {
   "cell_type": "markdown",
   "metadata": {},
   "source": [
    "### Task 16: 2 개의 상자로 캔버스를 만듭니다. 첫 번째 상자에는 \"ACCESS GRANTED\"가 표시되고 두 번째 상자에는 \"PLEASE PROCEED\"라고 표시됩니다."
   ]
  },
  {
   "cell_type": "code",
   "execution_count": 46,
   "metadata": {},
   "outputs": [],
   "source": [
    "canvas_accessdenied = np.zeros((600,800,3),dtype=\"uint8\")      \n",
    "\n",
    "cv2.rectangle(canvas_accessdenied, (100, 130), (700, 240), (255,255,0), 2)  \n",
    "cv2.rectangle(canvas_accessdenied, (100, 280), (700, 370), (255,255,0), 2)  \n",
    "\n",
    "cv2.putText(canvas_accessdenied, \"ACCESS DENIED\", (150,200), cv2.FONT_HERSHEY_SIMPLEX, 2, (100,100,255), 5)\n",
    "cv2.putText(canvas_accessdenied, \"ACCESS GRANTED\", (130,340), cv2.FONT_HERSHEY_SIMPLEX, 2, (255,100,100), 5)\n",
    "\n",
    "cv2.imshow(\"Canvas Access Denied\",canvas_accessdenied)  \n",
    "cv2.waitKey(0)                            # Cleanup after any key is pressed\n",
    "cv2.destroyAllWindows()"
   ]
  },
  {
   "cell_type": "markdown",
   "metadata": {},
   "source": [
    "## Congratulations! \n",
    "\n",
    "## 이제 재미있는 것을 만들어야 할 때입니다!"
   ]
  },
  {
   "cell_type": "markdown",
   "metadata": {},
   "source": [
    "당신이 도움이 필요할 때마다 또는 openCv 함수의 문법을 알아야 할 필요가있을 때,\n",
    "https://docs.opencv.org/4.0.0/d2/d96/tutorial_py_table_of_contents_imgproc.html에서 찾아보십시오.\n",
    "\n",
    "거기에서 답을 찾을 수 없으면 다른 사람이 답을 얻을 수있는 좋은 기회입니다. 더 많은 것을 찾기 위해 인터넷을 편안하게 사용하십시오!\n",
    "\n",
    "귀하의 질문에 대한 해결책을 찾아 내고 세계 여러 곳의 많은 도전에 도움이되는 좋은 물건을 만들어 나가십시오!"
   ]
  },
  {
   "cell_type": "markdown",
   "metadata": {},
   "source": [
    "### Challenge 1: 1.1b 절의 비디오 예제를 확장하고 800x600으로 비디오 크기를 조정 한 다음 그레이 스케일로 표시하십시오."
   ]
  },
  {
   "cell_type": "code",
   "execution_count": 47,
   "metadata": {},
   "outputs": [],
   "source": [
    "import cv2#your code here\n",
    "from datetime import datetime\n",
    "camera = cv2.VideoCapture(0) #create a VideoCapture object with the 'first' camera (your webcam)\n",
    "\n",
    "time=datetime.now()\n",
    "\n",
    "while(True):\n",
    "    ret, frame = camera.read()             # Capture frame by frame   \n",
    "    frame = cv2.resize(frame,(800,600))\n",
    "    frame = cv2.cvtColor(frame, cv2.COLOR_BGR2GRAY)\n",
    "    time=datetime.now()\n",
    "    cv2.putText(frame, str(time), (50, 50), cv2.FONT_HERSHEY_COMPLEX, 1, (255, 255, 255),1)\n",
    "    cv2.imshow('Press Spacebar to Exit',frame)              # Display the frame    \n",
    "    \n",
    "    if cv2.waitKey(1) & 0xFF == ord(' '):  # Stop if spacebar is detected\n",
    "        break\n",
    "\n",
    "camera.release()                           # Cleanup after spacebar is detected.\n",
    "cv2.destroyAllWindows()"
   ]
  },
  {
   "cell_type": "markdown",
   "metadata": {},
   "source": [
    "### Challenge 2: Python 시간 라이브러리를 사용하고 웹캠의 비디오 피드에 타임 스탬프를 깔끔하게 추가하십시오."
   ]
  },
  {
   "cell_type": "code",
   "execution_count": 48,
   "metadata": {},
   "outputs": [
    {
     "name": "stdout",
     "output_type": "stream",
     "text": [
      "2019-06-11 17:23:38.657981\n"
     ]
    }
   ],
   "source": [
    "# Sample Code for getting a timestamp. Search online for more options if you need.\n",
    "from datetime import datetime\n",
    "print (datetime.now())"
   ]
  },
  {
   "cell_type": "code",
   "execution_count": null,
   "metadata": {},
   "outputs": [],
   "source": [
    "#your code here"
   ]
  },
  {
   "cell_type": "markdown",
   "metadata": {},
   "source": [
    "### Challenge 3: 빨간색과 녹색 마커를 사용하여 색이 다른 카드를 만듭니다. 특정 색상의 카드가 제시 될 때마다 컴퓨터가 인식하도록 할 수 있습니까?\n",
    "힌트 : 먼저 카드의 사진을 몇 장 찍은 다음 간단한 이미지 처리를 사용하여 색상 패턴을 분석하십시오. 필요한 경우 다른 색상 공간을 탐색하십시오. 이 시스템이 조명 상태의 변화에 다소 영향을받을 수 있습니다."
   ]
  },
  {
   "cell_type": "code",
   "execution_count": 49,
   "metadata": {},
   "outputs": [],
   "source": [
    "camera = cv2.VideoCapture(0) #create a VideoCapture object with the 'first' camera (your webcam)\n",
    "canvas_green = np.zeros((450,600,3),dtype=\"uint8\") \n",
    "canvas_red = np.zeros((450,600,3),dtype=\"uint8\") \n",
    "\n",
    " \n",
    "while(True):\n",
    "    ret, frame = camera.read()\n",
    "    frame = cv2.resize(frame,(600,450))# Capture frame by frame       \n",
    "    ret,thresholded = cv2.threshold(frame,29,255,cv2.THRESH_BINARY_INV)\n",
    "    \n",
    "    mask = thresholded.copy()                         # 우리가 만들려는 Mask 이미지. 초기 이미지의 사본으로 초기화하십시오.\n",
    "    (b,g,r) = cv2.split(thresholded)                  # BGR 이미지를 단일 평면으로 분할하여 채널을 개별적으로 작업 할 수 있습니다.\n",
    "    mask[(b==255)&(g==255)&(r==255)] = 0             # 흰색 배경 (BGR 채널이 모두 255 일 때)에서 0 (검정색)으로 변경하십시오.\n",
    "    maskedred = cv2.bitwise_and(frame,frame,mask=mask[:,:,0]) \n",
    "    maskedblue = cv2.bitwise_and(frame,frame,mask=mask[:,:,2])  \n",
    "    #ret,thresholded = cv2.threshold(frame,10,255,cv2.THRESH_BINARY) \n",
    "    #ret,zzzz = cv2.threshold(frame,149,255,cv2.THRESH_BINARY)\n",
    "    cv2.imshow('Press Spacebar to Exit',frame)              # Display the frame\n",
    "\n",
    "    cv2.imshow(\"blue\",maskedblue) \n",
    "    cv2.imshow(\"red\",maskedred) \n",
    "    if cv2.waitKey(1) & 0xFF == ord(' '):  # Stop if spacebar is detected\n",
    "        break    \n",
    "        \n",
    "camera.release()                           # Cleanup after spacebar is detected.\n",
    "cv2.destroyAllWindows()"
   ]
  },
  {
   "cell_type": "markdown",
   "metadata": {},
   "source": [
    "### Challenge 4: 카메라 앞에 표시 될 때마다 (또는 무언가를 표시하거나 표시 할 때마다) \"액세스 허용\"을 표시하는 응용 프로그램을 만듭니다.\n",
    "창의력을 발휘하십시오. 유일한 규칙은 키보드를 터치 할 수 없으며 비디오 피드를 처리하는 카메라가 필요하다는 것입니다.\n",
    "\n",
    "도전. 자신에게 액세스 권한을 부여하고 자신과 같이 포즈를 취하는 친구에게 액세스 권한을 부여하지 않는 무언가를 만드십시오! 먼저 시스템에 대한 액세스 권한을 2 번 보여줍니다. 그러면 친구가 똑같이하려고 할 것입니다. 친구가 3 분 이내에 액세스 권한을 얻지 못하면 이기게됩니다!"
   ]
  },
  {
   "cell_type": "code",
   "execution_count": null,
   "metadata": {},
   "outputs": [],
   "source": [
    "# 가능한 기술 : 특정 컬러 셔츠 사용 / 컬러 용지 운반.\n",
    "# 학생들은 가능성을 탐구하고 상대 팀이 수행하려고 시도하는 것을 해독하기가 어렵습니다."
   ]
  },
  {
   "cell_type": "markdown",
   "metadata": {},
   "source": [
    "### Challenge 5: https://www.youtube.com/watch?v=xyfSUOfFI_E에서 동영상을 시청하십시오.\n",
    "컴퓨터 비전의 힘을 사용하여 만들려는 아이디어를 나열하십시오. <br />\n",
    "귀하의 아이디어 중 일부가 SDG (Sustainable Development Goals) 달성에 도움이 될 수 있습니까?"
   ]
  },
  {
   "cell_type": "raw",
   "metadata": {},
   "source": []
  },
  {
   "cell_type": "markdown",
   "metadata": {},
   "source": [
    "### Challenge 6: 실제 세상에서 본 컴퓨터 시각 응용 프로그램의 예를 적어도 세 가지 이상 나열하십시오."
   ]
  },
  {
   "cell_type": "raw",
   "metadata": {},
   "source": []
  },
  {
   "cell_type": "markdown",
   "metadata": {},
   "source": [
    "### Challenge 7: Task 4에서 만든 시스템의 일부 제한 사항을 나열하십시오.\n",
    "어떻게 개선 될 수 있다고 생각하십니까?"
   ]
  },
  {
   "cell_type": "raw",
   "metadata": {},
   "source": []
  }
 ],
 "metadata": {
  "kernelspec": {
   "display_name": "Python 3",
   "language": "python",
   "name": "python3"
  },
  "language_info": {
   "codemirror_mode": {
    "name": "ipython",
    "version": 3
   },
   "file_extension": ".py",
   "mimetype": "text/x-python",
   "name": "python",
   "nbconvert_exporter": "python",
   "pygments_lexer": "ipython3",
   "version": "3.7.1"
  }
 },
 "nbformat": 4,
 "nbformat_minor": 2
}
