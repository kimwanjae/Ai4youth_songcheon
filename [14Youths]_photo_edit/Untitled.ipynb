{
 "cells": [
  {
   "cell_type": "code",
   "execution_count": 1,
   "metadata": {},
   "outputs": [
    {
     "ename": "SyntaxError",
     "evalue": "invalid syntax (<ipython-input-1-ac01de56cb7a>, line 2)",
     "output_type": "error",
     "traceback": [
      "\u001b[1;36m  File \u001b[1;32m\"<ipython-input-1-ac01de56cb7a>\"\u001b[1;36m, line \u001b[1;32m2\u001b[0m\n\u001b[1;33m    import gab.opencv.*;\u001b[0m\n\u001b[1;37m                      ^\u001b[0m\n\u001b[1;31mSyntaxError\u001b[0m\u001b[1;31m:\u001b[0m invalid syntax\n"
     ]
    }
   ],
   "source": [
    "    \n",
    "import gab.opencv.*;\n",
    "import java.awt.Rectangle;\n",
    "\n",
    "OpenCV opencv;\n",
    "Rectangle[] faces;\n",
    "\n",
    "void setup() {\n",
    "  opencv = new OpenCV(this, \"test.jpg\");\n",
    "  size(opencv.width, opencv.height);\n",
    "\n",
    "  opencv.loadCascade(OpenCV.CASCADE_FRONTALFACE);  \n",
    "  faces = opencv.detect();\n",
    "}\n",
    "\n",
    "void draw() {\n",
    "  image(opencv.getInput(), 0, 0);\n",
    "\n",
    "  noFill();\n",
    "  stroke(0, 255, 0);\n",
    "  strokeWeight(3);\n",
    "  for (int i = 0; i < faces.length; i++) {\n",
    "    rect(faces[i].x, faces[i].y, faces[i].width, faces[i].height);\n",
    "  }\n",
    "}\n"
   ]
  },
  {
   "cell_type": "code",
   "execution_count": null,
   "metadata": {},
   "outputs": [],
   "source": []
  }
 ],
 "metadata": {
  "kernelspec": {
   "display_name": "Python 3",
   "language": "python",
   "name": "python3"
  },
  "language_info": {
   "codemirror_mode": {
    "name": "ipython",
    "version": 3
   },
   "file_extension": ".py",
   "mimetype": "text/x-python",
   "name": "python",
   "nbconvert_exporter": "python",
   "pygments_lexer": "ipython3",
   "version": "3.7.1"
  }
 },
 "nbformat": 4,
 "nbformat_minor": 2
}
