{
 "cells": [
  {
   "cell_type": "markdown",
   "metadata": {},
   "source": [
    "# Introduction to Python"
   ]
  },
  {
   "cell_type": "markdown",
   "metadata": {},
   "source": [
    "이 노트북에는 워크샵을 진행하는 데 필요한 프로그래밍 기술을 갖추기 위한 프로그래밍 연습이 포함되어 있습니다. 실수하는 것을 두려워하지 마십시오. 코딩하는 동안 실수하는 것은 완전히 정상입니다. 실수를 바로 잡는 방법을 배우는 것이 더 중요합니다. 연습 문제에 어려움이 있는 경우 온라인으로 유사한 솔루션을 검색하고 친구 나 진행자에게 도움을 요청할 수 있습니다."
   ]
  },
  {
   "cell_type": "markdown",
   "metadata": {},
   "source": [
    "list는 둘 이상의 값을 저장할 수있는 변수와 같습니다.\n",
    "\n",
    "코딩을 시작하기 전에 List에 대한 몇 가지 중요한 속성을 알아봅시다.\n",
    "1. list은 대괄호 []로 묶습니다.\n",
    "2. list는 문자열, 정수, 부동 소수점, 부울 또는 이들의 조합을 포함 할 수 있습니다.\n",
    "3. list안에 요소값은 쉼표로 구분됩니다.\n",
    "\n",
    "3 가지 속성을 염두에두고 코딩을 시작하십시오!\n",
    "아래 코드를보고 실행 해보십시오."
   ]
  },
  {
   "cell_type": "code",
   "execution_count": 3,
   "metadata": {},
   "outputs": [
    {
     "name": "stdout",
     "output_type": "stream",
     "text": [
      "빈 list:  []\n"
     ]
    }
   ],
   "source": [
    "# 빈 list 생성\n",
    "sampleList = #yourcodehere\n",
    "print (\"빈 list: \", #yourcodehere)"
   ]
  },
  {
   "cell_type": "code",
   "execution_count": 6,
   "metadata": {},
   "outputs": [
    {
     "name": "stdout",
     "output_type": "stream",
     "text": [
      "Bob가 list에 나타나야 합니다 : ['Bob', False, 9, 10.5, 'Bob']\n"
     ]
    }
   ],
   "source": [
    "#.append() 는 list에 요소값을 추가하는 함수\n",
    "sampleList.append(\"Bob\")\n",
    "print (\"Bob가 list에 나타나야 합니다 :\", sampleList)"
   ]
  },
  {
   "cell_type": "code",
   "execution_count": 8,
   "metadata": {},
   "outputs": [
    {
     "name": "stdout",
     "output_type": "stream",
     "text": [
      "list에는 다른 데이터 유형이 포함될 수 있으며 list의 요소값은 쉼표로 구분됩니다 : ['Bob', False, 9, 10.5, 'Bob', False, 9, 10.5, False, 9, 10.5]\n"
     ]
    }
   ],
   "source": [
    "# list는 문자열, 정수, 부동 소수점, 부울 또는 이들의 조합을 포함 할 수 있습니다.\n",
    "sampleList.append(False)\n",
    "sampleList.append(9)\n",
    "sampleList.append(10.5)\n",
    "print (\"list에는 다른 데이터 유형이 포함될 수 있으며 list의 요소값은 쉼표로 구분됩니다 :\", sampleList)"
   ]
  },
  {
   "cell_type": "markdown",
   "metadata": {},
   "source": [
    "연습 문제입니다.\n",
    "1. 아래 셀의 list X1에 다음 번호를 지정하십시오. 숫자는 4, 1, 5, 7입니다.\n",
    "2. 이제 세 번째 요소값 숫자를 5에서 10으로 변경하십시오. X1을 인쇄하여 변경되었는지 확인하십시오.\n",
    "3. 아래 셀의 list에있는 모든 요소값에 2를 더하세요. X1을 다시 인쇄하여 추가되었는지 확인하십시오."
   ]
  },
  {
   "cell_type": "code",
   "execution_count": 4,
   "metadata": {},
   "outputs": [
    {
     "name": "stdout",
     "output_type": "stream",
     "text": [
      "[4, 1, 5, 7]\n",
      "[4, 1, 10, 7]\n",
      "[6, 3, 12, 9]\n"
     ]
    }
   ],
   "source": [
    "# 해보기: 숫자 (4,1,5,7)를 list X1에 지정하십시오.\n",
    "X1 = [#yourcodehere]\n",
    "print(X1)\n",
    "\n",
    "# 해보기: 세 번째 요소값 숫자를 5에서 10으로 변경하십시오.\n",
    "#yourcodehere\n",
    "print(X1)\n",
    "\n",
    "# 해보기: list의 모든 요소값에 2를 더하세요. (힌트: for 루프를 사용하십시오!)\n",
    "#yourcodehere\n",
    "    \n",
    "print(X1)"
   ]
  },
  {
   "cell_type": "markdown",
   "metadata": {},
   "source": [
    "방금 배운 기초 통계를 python에 적용 해 봅시다.\n",
    "지금부터 여러분이 해야할 도전 문제입니다!\n",
    "1. 제공된 데이터의 평균을 찾습니다.\n",
    "2. 제공된 데이터의 중앙값을 찾습니다.\n",
    "3. 제공된 데이터의 최빈값를 찾으십시오.\n",
    "\n",
    "풀이를 마치면 손을 들어주세요. 퍼실리테이터가 코드를 보러 올 것입니다!\n",
    "일단 여러분이 끝났으면, 여러분의 주변의 동료들이 도전을 완료할 수 있도록 자유롭게 도와주지만, 그들에게 답을 주지 마세요!"
   ]
  },
  {
   "cell_type": "code",
   "execution_count": 5,
   "metadata": {},
   "outputs": [
    {
     "name": "stdout",
     "output_type": "stream",
     "text": [
      "14\n",
      "93\n",
      "6.642857142857143\n"
     ]
    }
   ],
   "source": [
    "# 도전 과제에 대한 dataset은 다음과 같습니다.\n",
    "dataset = [2, 1, 1, 4, 5, 8, 12, 4, 3, 8, 21, 1, 18, 5]\n",
    "\n",
    "# 해보기: 제공된 데이터의 평균을 구합니다.\n",
    "# Step 1: list의 요소값의 개수를 확인합니다.\n",
    "number_of_items = #yourcodehere\n",
    "print(number_of_items)\n",
    "\n",
    "# Step 2: list에 있는 요소값의 합계를 구합니다.\n",
    "sum_of_items = 0\n",
    "#yourcodehere\n",
    "print(sum_of_items)\n",
    "\n",
    "# Step 3: 평균을 구합니다.\n",
    "mean = #yourcodehere\n",
    "print(mean)"
   ]
  },
  {
   "cell_type": "code",
   "execution_count": 6,
   "metadata": {},
   "outputs": [
    {
     "name": "stdout",
     "output_type": "stream",
     "text": [
      "[1, 1, 1, 2, 3, 4, 4, 5, 5, 8, 8, 12, 18, 21]\n",
      "7\n",
      "4\n"
     ]
    }
   ],
   "source": [
    "# 해보기: 제공된 데이터의 중앙값을 구합니다. (힌트: list의 요소값 재정렬)\n",
    "# Step 1: list의 요소값을 오름차순으로 다시 정렬합니다. (예: 1,1,1,2,3,4,4,5,5,8,8,12,18,21)\n",
    "#yourcodehere\n",
    "print(dataset)\n",
    "\n",
    "# Step 2: 중앙값의 요소값 위치 구하기\n",
    "middle_index = #yourcodehere\n",
    "print (middle_index)\n",
    "\n",
    "# Step 3: 중앙값 구하기\n",
    "median = #yourcodehere\n",
    "print (median)"
   ]
  },
  {
   "cell_type": "code",
   "execution_count": 7,
   "metadata": {},
   "outputs": [
    {
     "name": "stdout",
     "output_type": "stream",
     "text": [
      "1\n"
     ]
    }
   ],
   "source": [
    "# 해보기: 제공된 데이터의 최빈값을 구합니다. (힌트: max()에 대한 python 라이브러리 살펴보기)\n",
    "mode = #yourcodehere\n",
    "print (mode)  "
   ]
  },
  {
   "cell_type": "code",
   "execution_count": null,
   "metadata": {},
   "outputs": [],
   "source": []
  }
 ],
 "metadata": {
  "kernelspec": {
   "display_name": "Python 3",
   "language": "python",
   "name": "python3"
  },
  "language_info": {
   "codemirror_mode": {
    "name": "ipython",
    "version": 3
   },
   "file_extension": ".py",
   "mimetype": "text/x-python",
   "name": "python",
   "nbconvert_exporter": "python",
   "pygments_lexer": "ipython3",
   "version": "3.6.8"
  }
 },
 "nbformat": 4,
 "nbformat_minor": 2
}
