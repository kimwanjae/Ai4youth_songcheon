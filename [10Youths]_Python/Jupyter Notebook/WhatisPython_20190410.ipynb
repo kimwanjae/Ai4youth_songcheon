{
 "cells": [
  {
   "cell_type": "markdown",
   "metadata": {},
   "source": [
    "<font size=\"6\" color=#9F0320>\n",
    "<strong>[ 학습 방법 ]</strong>\n",
    "<P>\n",
    "</font>\n",
    "<font size=\"3\" color=#1D3775>\n",
    "<strong> 1. 웹사이트 내용을 영어로 읽거나 필요할 경우 한글로 번역하여 학습한다.</strong>\n",
    "</font><br>\n",
    "   * 이해가 잘 안되는 경우는 옵션 2 링크 웹사이트를 오픈하여 더 학습한다.\n",
    "<P>\n",
    "</font>\n",
    "<font size=\"3\" color=#1D3775><strong>\n",
    "2. 학습한 내용을 파일로 정리한다. 아래 빈칸에 소스코드를 반드시 직접 입력하고 결과를 실행하여 확인한다.학습이 모두 끝나면 파일을 선생님께 제출한다.\n",
    "</strong>\n",
    "</font><br> (파일명 예시: 이름_주제_날짜.ipynb)\n",
    "    \n",
    "<P>\n",
    "</font>\n",
    "<font size=\"3\" color=#1D3775><strong>\n",
    " 3. 내용 이해를 위해 옵션2나 다른 웹사이트를 참고한 내용은 셀을 추가하여 Markdown으로 작성하여 추가한다.\n",
    "</strong>\n",
    "</font><br>\n",
    " \n",
    "<P>\n",
    "</font>\n",
    "<font size=\"3\" color=#1D3775><strong>\n",
    "    4. 모든 학습이 끝나면 선생님께서 여러분이 잘 이해하고 있는지 Kahoot Quiz를 이용하여 확인할 것입니다.</font></strong> <strong><font color='red'>반드시 위의 학습 방법으로 충분한 학습을 하시기 바랍니다.\n",
    "</strong>\n",
    "</font><br>\n",
    " \n",
    " \n",
    "\n",
    "\n",
    "이런 학습 활동은 여러분에게 자기주도적으로 학습하는 경험을 제공하고자 합니다.\n",
    "도움을 필요할 때는 먼저 스스로 연구를 더 해 본다음, 짝과 고민해 보고, 그 후 여러분 팀에서 해결해 보세요, 또는 다른 팀의 친구들과 함께 해결방법을 알아보도록 합니다. \n",
    "그래도 해결이 안되면 선생님께 도움을 요청하기 바랍니다.\n",
    "\n",
    "모두 화이팅입니다.!!!"
   ]
  },
  {
   "cell_type": "markdown",
   "metadata": {},
   "source": [
    "# What is Python (Programming)? - The Basics"
   ]
  },
  {
   "cell_type": "markdown",
   "metadata": {},
   "source": [
    "### Program to Add Two Numbers"
   ]
  },
  {
   "cell_type": "code",
   "execution_count": null,
   "metadata": {},
   "outputs": [],
   "source": [
    "# Type out the source code. Don't include the comments.\n",
    "\n",
    "\n"
   ]
  }
 ],
 "metadata": {
  "kernelspec": {
   "display_name": "Python 3",
   "language": "python",
   "name": "python3"
  },
  "language_info": {
   "codemirror_mode": {
    "name": "ipython",
    "version": 3
   },
   "file_extension": ".py",
   "mimetype": "text/x-python",
   "name": "python",
   "nbconvert_exporter": "python",
   "pygments_lexer": "ipython3",
   "version": "3.6.7"
  }
 },
 "nbformat": 4,
 "nbformat_minor": 2
}
